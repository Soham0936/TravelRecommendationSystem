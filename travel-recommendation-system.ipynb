{
 "cells": [
  {
   "cell_type": "markdown",
   "id": "736de865",
   "metadata": {
    "papermill": {
     "duration": 0.013204,
     "end_time": "2023-10-07T07:21:14.038901",
     "exception": false,
     "start_time": "2023-10-07T07:21:14.025697",
     "status": "completed"
    },
    "tags": []
   },
   "source": [
    "# Data Understanding"
   ]
  },
  {
   "cell_type": "code",
   "execution_count": 1,
   "id": "c263790a",
   "metadata": {
    "execution": {
     "iopub.execute_input": "2023-10-07T07:21:14.060995Z",
     "iopub.status.busy": "2023-10-07T07:21:14.060325Z",
     "iopub.status.idle": "2023-10-07T07:21:15.453985Z",
     "shell.execute_reply": "2023-10-07T07:21:15.452926Z"
    },
    "papermill": {
     "duration": 1.408953,
     "end_time": "2023-10-07T07:21:15.457154",
     "exception": false,
     "start_time": "2023-10-07T07:21:14.048201",
     "status": "completed"
    },
    "tags": []
   },
   "outputs": [],
   "source": [
    "import pandas as pd\n",
    "import seaborn as sns\n",
    "import matplotlib.pyplot as plt\n",
    "\n",
    "DATA_PATH = \"../input/indonesia-tourism-destination\"\n",
    "\n",
    "info_tourism = pd.read_csv(f\"{DATA_PATH}/tourism_with_id.csv\")\n",
    "tourism_rating = pd.read_csv(f\"{DATA_PATH}/tourism_rating.csv\")\n",
    "users = pd.read_csv(f\"{DATA_PATH}/user.csv\")"
   ]
  },
  {
   "cell_type": "code",
   "execution_count": 2,
   "id": "81d7174a",
   "metadata": {
    "execution": {
     "iopub.execute_input": "2023-10-07T07:21:15.499481Z",
     "iopub.status.busy": "2023-10-07T07:21:15.498817Z",
     "iopub.status.idle": "2023-10-07T07:21:15.538018Z",
     "shell.execute_reply": "2023-10-07T07:21:15.536967Z"
    },
    "papermill": {
     "duration": 0.06256,
     "end_time": "2023-10-07T07:21:15.540310",
     "exception": false,
     "start_time": "2023-10-07T07:21:15.477750",
     "status": "completed"
    },
    "tags": []
   },
   "outputs": [
    {
     "data": {
      "text/html": [
       "<div>\n",
       "<style scoped>\n",
       "    .dataframe tbody tr th:only-of-type {\n",
       "        vertical-align: middle;\n",
       "    }\n",
       "\n",
       "    .dataframe tbody tr th {\n",
       "        vertical-align: top;\n",
       "    }\n",
       "\n",
       "    .dataframe thead th {\n",
       "        text-align: right;\n",
       "    }\n",
       "</style>\n",
       "<table border=\"1\" class=\"dataframe\">\n",
       "  <thead>\n",
       "    <tr style=\"text-align: right;\">\n",
       "      <th></th>\n",
       "      <th>Place_Id</th>\n",
       "      <th>Place_Name</th>\n",
       "      <th>Description</th>\n",
       "      <th>Category</th>\n",
       "      <th>City</th>\n",
       "      <th>Price</th>\n",
       "      <th>Rating</th>\n",
       "      <th>Time_Minutes</th>\n",
       "      <th>Coordinate</th>\n",
       "      <th>Lat</th>\n",
       "      <th>Long</th>\n",
       "      <th>Unnamed: 11</th>\n",
       "      <th>Unnamed: 12</th>\n",
       "    </tr>\n",
       "  </thead>\n",
       "  <tbody>\n",
       "    <tr>\n",
       "      <th>411</th>\n",
       "      <td>412</td>\n",
       "      <td>Masjid Nasional Al-Akbar</td>\n",
       "      <td>Masjid Nasional Al Akbar (atau biasa disebut M...</td>\n",
       "      <td>Tempat Ibadah</td>\n",
       "      <td>Surabaya</td>\n",
       "      <td>0</td>\n",
       "      <td>4.9</td>\n",
       "      <td>NaN</td>\n",
       "      <td>{'lat': -7.336614099999998, 'lng': 112.7151806}</td>\n",
       "      <td>-7.336614</td>\n",
       "      <td>112.715181</td>\n",
       "      <td>NaN</td>\n",
       "      <td>412</td>\n",
       "    </tr>\n",
       "    <tr>\n",
       "      <th>14</th>\n",
       "      <td>15</td>\n",
       "      <td>Pasar Seni</td>\n",
       "      <td>Pasar Seni merupakan Pusat kerajinan dan kesen...</td>\n",
       "      <td>Pusat Perbelanjaan</td>\n",
       "      <td>Jakarta</td>\n",
       "      <td>0</td>\n",
       "      <td>4.4</td>\n",
       "      <td>90.0</td>\n",
       "      <td>{'lat': -6.1766868, 'lng': 106.8417666}</td>\n",
       "      <td>-6.176687</td>\n",
       "      <td>106.841767</td>\n",
       "      <td>NaN</td>\n",
       "      <td>15</td>\n",
       "    </tr>\n",
       "    <tr>\n",
       "      <th>278</th>\n",
       "      <td>279</td>\n",
       "      <td>Masjid Agung Trans Studio Bandung</td>\n",
       "      <td>Masjid Agung Trans Studio Bandung (TSB) berdir...</td>\n",
       "      <td>Tempat Ibadah</td>\n",
       "      <td>Bandung</td>\n",
       "      <td>0</td>\n",
       "      <td>4.8</td>\n",
       "      <td>NaN</td>\n",
       "      <td>{'lat': -6.925963500000001, 'lng': 107.6354278}</td>\n",
       "      <td>-6.925963</td>\n",
       "      <td>107.635428</td>\n",
       "      <td>NaN</td>\n",
       "      <td>279</td>\n",
       "    </tr>\n",
       "    <tr>\n",
       "      <th>356</th>\n",
       "      <td>357</td>\n",
       "      <td>Wisata Alam Wana Wisata Penggaron</td>\n",
       "      <td>Berada sekitar 2 KM dari Kota Ungaran atau sek...</td>\n",
       "      <td>Cagar Alam</td>\n",
       "      <td>Semarang</td>\n",
       "      <td>10000</td>\n",
       "      <td>4.1</td>\n",
       "      <td>45.0</td>\n",
       "      <td>{'lat': -7.115796899999999, 'lng': 110.4217966}</td>\n",
       "      <td>-7.115797</td>\n",
       "      <td>110.421797</td>\n",
       "      <td>NaN</td>\n",
       "      <td>357</td>\n",
       "    </tr>\n",
       "    <tr>\n",
       "      <th>346</th>\n",
       "      <td>347</td>\n",
       "      <td>Taman Pandanaran</td>\n",
       "      <td>Dalam sejarah yang tercatat, dulunya tempat in...</td>\n",
       "      <td>Taman Hiburan</td>\n",
       "      <td>Semarang</td>\n",
       "      <td>0</td>\n",
       "      <td>4.4</td>\n",
       "      <td>45.0</td>\n",
       "      <td>{'lat': -6.987793600000001, 'lng': 110.4172262}</td>\n",
       "      <td>-6.987794</td>\n",
       "      <td>110.417226</td>\n",
       "      <td>NaN</td>\n",
       "      <td>347</td>\n",
       "    </tr>\n",
       "  </tbody>\n",
       "</table>\n",
       "</div>"
      ],
      "text/plain": [
       "     Place_Id                         Place_Name  \\\n",
       "411       412           Masjid Nasional Al-Akbar   \n",
       "14         15                         Pasar Seni   \n",
       "278       279  Masjid Agung Trans Studio Bandung   \n",
       "356       357  Wisata Alam Wana Wisata Penggaron   \n",
       "346       347                   Taman Pandanaran   \n",
       "\n",
       "                                           Description            Category  \\\n",
       "411  Masjid Nasional Al Akbar (atau biasa disebut M...       Tempat Ibadah   \n",
       "14   Pasar Seni merupakan Pusat kerajinan dan kesen...  Pusat Perbelanjaan   \n",
       "278  Masjid Agung Trans Studio Bandung (TSB) berdir...       Tempat Ibadah   \n",
       "356  Berada sekitar 2 KM dari Kota Ungaran atau sek...          Cagar Alam   \n",
       "346  Dalam sejarah yang tercatat, dulunya tempat in...       Taman Hiburan   \n",
       "\n",
       "         City  Price  Rating  Time_Minutes  \\\n",
       "411  Surabaya      0     4.9           NaN   \n",
       "14    Jakarta      0     4.4          90.0   \n",
       "278   Bandung      0     4.8           NaN   \n",
       "356  Semarang  10000     4.1          45.0   \n",
       "346  Semarang      0     4.4          45.0   \n",
       "\n",
       "                                          Coordinate       Lat        Long  \\\n",
       "411  {'lat': -7.336614099999998, 'lng': 112.7151806} -7.336614  112.715181   \n",
       "14           {'lat': -6.1766868, 'lng': 106.8417666} -6.176687  106.841767   \n",
       "278  {'lat': -6.925963500000001, 'lng': 107.6354278} -6.925963  107.635428   \n",
       "356  {'lat': -7.115796899999999, 'lng': 110.4217966} -7.115797  110.421797   \n",
       "346  {'lat': -6.987793600000001, 'lng': 110.4172262} -6.987794  110.417226   \n",
       "\n",
       "     Unnamed: 11  Unnamed: 12  \n",
       "411          NaN          412  \n",
       "14           NaN           15  \n",
       "278          NaN          279  \n",
       "356          NaN          357  \n",
       "346          NaN          347  "
      ]
     },
     "execution_count": 2,
     "metadata": {},
     "output_type": "execute_result"
    }
   ],
   "source": [
    "info_tourism.sample(5)"
   ]
  },
  {
   "cell_type": "code",
   "execution_count": 3,
   "id": "16422713",
   "metadata": {
    "execution": {
     "iopub.execute_input": "2023-10-07T07:21:15.583821Z",
     "iopub.status.busy": "2023-10-07T07:21:15.583175Z",
     "iopub.status.idle": "2023-10-07T07:21:15.599275Z",
     "shell.execute_reply": "2023-10-07T07:21:15.598309Z"
    },
    "papermill": {
     "duration": 0.041598,
     "end_time": "2023-10-07T07:21:15.602003",
     "exception": false,
     "start_time": "2023-10-07T07:21:15.560405",
     "status": "completed"
    },
    "tags": []
   },
   "outputs": [
    {
     "data": {
      "text/html": [
       "<div>\n",
       "<style scoped>\n",
       "    .dataframe tbody tr th:only-of-type {\n",
       "        vertical-align: middle;\n",
       "    }\n",
       "\n",
       "    .dataframe tbody tr th {\n",
       "        vertical-align: top;\n",
       "    }\n",
       "\n",
       "    .dataframe thead th {\n",
       "        text-align: right;\n",
       "    }\n",
       "</style>\n",
       "<table border=\"1\" class=\"dataframe\">\n",
       "  <thead>\n",
       "    <tr style=\"text-align: right;\">\n",
       "      <th></th>\n",
       "      <th>User_Id</th>\n",
       "      <th>Place_Id</th>\n",
       "      <th>Place_Ratings</th>\n",
       "    </tr>\n",
       "  </thead>\n",
       "  <tbody>\n",
       "    <tr>\n",
       "      <th>7484</th>\n",
       "      <td>225</td>\n",
       "      <td>239</td>\n",
       "      <td>3</td>\n",
       "    </tr>\n",
       "    <tr>\n",
       "      <th>916</th>\n",
       "      <td>29</td>\n",
       "      <td>104</td>\n",
       "      <td>3</td>\n",
       "    </tr>\n",
       "    <tr>\n",
       "      <th>9464</th>\n",
       "      <td>285</td>\n",
       "      <td>222</td>\n",
       "      <td>5</td>\n",
       "    </tr>\n",
       "    <tr>\n",
       "      <th>1518</th>\n",
       "      <td>47</td>\n",
       "      <td>314</td>\n",
       "      <td>3</td>\n",
       "    </tr>\n",
       "    <tr>\n",
       "      <th>8514</th>\n",
       "      <td>257</td>\n",
       "      <td>433</td>\n",
       "      <td>3</td>\n",
       "    </tr>\n",
       "  </tbody>\n",
       "</table>\n",
       "</div>"
      ],
      "text/plain": [
       "      User_Id  Place_Id  Place_Ratings\n",
       "7484      225       239              3\n",
       "916        29       104              3\n",
       "9464      285       222              5\n",
       "1518       47       314              3\n",
       "8514      257       433              3"
      ]
     },
     "execution_count": 3,
     "metadata": {},
     "output_type": "execute_result"
    }
   ],
   "source": [
    "tourism_rating.sample(5)"
   ]
  },
  {
   "cell_type": "code",
   "execution_count": 4,
   "id": "d0eff51d",
   "metadata": {
    "execution": {
     "iopub.execute_input": "2023-10-07T07:21:15.645749Z",
     "iopub.status.busy": "2023-10-07T07:21:15.645315Z",
     "iopub.status.idle": "2023-10-07T07:21:15.661515Z",
     "shell.execute_reply": "2023-10-07T07:21:15.660604Z"
    },
    "papermill": {
     "duration": 0.041255,
     "end_time": "2023-10-07T07:21:15.664172",
     "exception": false,
     "start_time": "2023-10-07T07:21:15.622917",
     "status": "completed"
    },
    "tags": []
   },
   "outputs": [
    {
     "data": {
      "text/html": [
       "<div>\n",
       "<style scoped>\n",
       "    .dataframe tbody tr th:only-of-type {\n",
       "        vertical-align: middle;\n",
       "    }\n",
       "\n",
       "    .dataframe tbody tr th {\n",
       "        vertical-align: top;\n",
       "    }\n",
       "\n",
       "    .dataframe thead th {\n",
       "        text-align: right;\n",
       "    }\n",
       "</style>\n",
       "<table border=\"1\" class=\"dataframe\">\n",
       "  <thead>\n",
       "    <tr style=\"text-align: right;\">\n",
       "      <th></th>\n",
       "      <th>User_Id</th>\n",
       "      <th>Location</th>\n",
       "      <th>Age</th>\n",
       "    </tr>\n",
       "  </thead>\n",
       "  <tbody>\n",
       "    <tr>\n",
       "      <th>203</th>\n",
       "      <td>204</td>\n",
       "      <td>Jakarta Selatan, DKI Jakarta</td>\n",
       "      <td>21</td>\n",
       "    </tr>\n",
       "    <tr>\n",
       "      <th>64</th>\n",
       "      <td>65</td>\n",
       "      <td>Yogyakarta, DIY</td>\n",
       "      <td>22</td>\n",
       "    </tr>\n",
       "    <tr>\n",
       "      <th>94</th>\n",
       "      <td>95</td>\n",
       "      <td>Subang, Jawa Barat</td>\n",
       "      <td>27</td>\n",
       "    </tr>\n",
       "    <tr>\n",
       "      <th>192</th>\n",
       "      <td>193</td>\n",
       "      <td>Jakarta Utara, DKI Jakarta</td>\n",
       "      <td>20</td>\n",
       "    </tr>\n",
       "    <tr>\n",
       "      <th>99</th>\n",
       "      <td>100</td>\n",
       "      <td>Bogor, Jawa Barat</td>\n",
       "      <td>28</td>\n",
       "    </tr>\n",
       "  </tbody>\n",
       "</table>\n",
       "</div>"
      ],
      "text/plain": [
       "     User_Id                      Location  Age\n",
       "203      204  Jakarta Selatan, DKI Jakarta   21\n",
       "64        65               Yogyakarta, DIY   22\n",
       "94        95            Subang, Jawa Barat   27\n",
       "192      193    Jakarta Utara, DKI Jakarta   20\n",
       "99       100             Bogor, Jawa Barat   28"
      ]
     },
     "execution_count": 4,
     "metadata": {},
     "output_type": "execute_result"
    }
   ],
   "source": [
    "users.sample(5)"
   ]
  },
  {
   "cell_type": "code",
   "execution_count": 5,
   "id": "7a21fb1a",
   "metadata": {
    "execution": {
     "iopub.execute_input": "2023-10-07T07:21:15.708391Z",
     "iopub.status.busy": "2023-10-07T07:21:15.707936Z",
     "iopub.status.idle": "2023-10-07T07:21:15.723223Z",
     "shell.execute_reply": "2023-10-07T07:21:15.722138Z"
    },
    "papermill": {
     "duration": 0.040845,
     "end_time": "2023-10-07T07:21:15.726161",
     "exception": false,
     "start_time": "2023-10-07T07:21:15.685316",
     "status": "completed"
    },
    "tags": []
   },
   "outputs": [
    {
     "name": "stdout",
     "output_type": "stream",
     "text": [
      "Number of places in the datasets : 437\n",
      "Number of users : 300\n",
      "The number of ratings given by the user to the dataset : 10000\n"
     ]
    }
   ],
   "source": [
    "print(f\"Number of places in the datasets : {len(info_tourism.Place_Id.unique())}\")\n",
    "print(f\"Number of users : {len(users.User_Id.unique())}\")\n",
    "print(f\"The number of ratings given by the user to the dataset : {len(tourism_rating.User_Id)}\")"
   ]
  },
  {
   "cell_type": "markdown",
   "id": "72e82d16",
   "metadata": {
    "papermill": {
     "duration": 0.020768,
     "end_time": "2023-10-07T07:21:15.768245",
     "exception": false,
     "start_time": "2023-10-07T07:21:15.747477",
     "status": "completed"
    },
    "tags": []
   },
   "source": [
    "# Exploratory Data Analysis"
   ]
  },
  {
   "cell_type": "code",
   "execution_count": 6,
   "id": "cf1888b7",
   "metadata": {
    "execution": {
     "iopub.execute_input": "2023-10-07T07:21:15.822498Z",
     "iopub.status.busy": "2023-10-07T07:21:15.822067Z",
     "iopub.status.idle": "2023-10-07T07:21:15.866924Z",
     "shell.execute_reply": "2023-10-07T07:21:15.865094Z"
    },
    "papermill": {
     "duration": 0.080177,
     "end_time": "2023-10-07T07:21:15.869784",
     "exception": false,
     "start_time": "2023-10-07T07:21:15.789607",
     "status": "completed"
    },
    "tags": []
   },
   "outputs": [
    {
     "name": "stdout",
     "output_type": "stream",
     "text": [
      "<class 'pandas.core.frame.DataFrame'>\n",
      "RangeIndex: 437 entries, 0 to 436\n",
      "Data columns (total 13 columns):\n",
      " #   Column        Non-Null Count  Dtype  \n",
      "---  ------        --------------  -----  \n",
      " 0   Place_Id      437 non-null    int64  \n",
      " 1   Place_Name    437 non-null    object \n",
      " 2   Description   437 non-null    object \n",
      " 3   Category      437 non-null    object \n",
      " 4   City          437 non-null    object \n",
      " 5   Price         437 non-null    int64  \n",
      " 6   Rating        437 non-null    float64\n",
      " 7   Time_Minutes  205 non-null    float64\n",
      " 8   Coordinate    437 non-null    object \n",
      " 9   Lat           437 non-null    float64\n",
      " 10  Long          437 non-null    float64\n",
      " 11  Unnamed: 11   0 non-null      float64\n",
      " 12  Unnamed: 12   437 non-null    int64  \n",
      "dtypes: float64(5), int64(3), object(5)\n",
      "memory usage: 44.5+ KB\n"
     ]
    }
   ],
   "source": [
    "info_tourism.info()"
   ]
  },
  {
   "cell_type": "code",
   "execution_count": 7,
   "id": "3603c21d",
   "metadata": {
    "execution": {
     "iopub.execute_input": "2023-10-07T07:21:15.920008Z",
     "iopub.status.busy": "2023-10-07T07:21:15.919541Z",
     "iopub.status.idle": "2023-10-07T07:21:15.932023Z",
     "shell.execute_reply": "2023-10-07T07:21:15.931023Z"
    },
    "papermill": {
     "duration": 0.038001,
     "end_time": "2023-10-07T07:21:15.935101",
     "exception": false,
     "start_time": "2023-10-07T07:21:15.897100",
     "status": "completed"
    },
    "tags": []
   },
   "outputs": [
    {
     "data": {
      "text/plain": [
       "Place_Id          0\n",
       "Place_Name        0\n",
       "Description       0\n",
       "Category          0\n",
       "City              0\n",
       "Price             0\n",
       "Rating            0\n",
       "Time_Minutes    232\n",
       "Coordinate        0\n",
       "Lat               0\n",
       "Long              0\n",
       "Unnamed: 11     437\n",
       "Unnamed: 12       0\n",
       "dtype: int64"
      ]
     },
     "execution_count": 7,
     "metadata": {},
     "output_type": "execute_result"
    }
   ],
   "source": [
    "info_tourism.isnull().sum()"
   ]
  },
  {
   "cell_type": "code",
   "execution_count": 8,
   "id": "3542deec",
   "metadata": {
    "execution": {
     "iopub.execute_input": "2023-10-07T07:21:15.979417Z",
     "iopub.status.busy": "2023-10-07T07:21:15.978856Z",
     "iopub.status.idle": "2023-10-07T07:21:15.996341Z",
     "shell.execute_reply": "2023-10-07T07:21:15.995348Z"
    },
    "papermill": {
     "duration": 0.043325,
     "end_time": "2023-10-07T07:21:15.999420",
     "exception": false,
     "start_time": "2023-10-07T07:21:15.956095",
     "status": "completed"
    },
    "tags": []
   },
   "outputs": [
    {
     "name": "stdout",
     "output_type": "stream",
     "text": [
      "<class 'pandas.core.frame.DataFrame'>\n",
      "RangeIndex: 10000 entries, 0 to 9999\n",
      "Data columns (total 3 columns):\n",
      " #   Column         Non-Null Count  Dtype\n",
      "---  ------         --------------  -----\n",
      " 0   User_Id        10000 non-null  int64\n",
      " 1   Place_Id       10000 non-null  int64\n",
      " 2   Place_Ratings  10000 non-null  int64\n",
      "dtypes: int64(3)\n",
      "memory usage: 234.5 KB\n"
     ]
    }
   ],
   "source": [
    "tourism_rating.info()"
   ]
  },
  {
   "cell_type": "code",
   "execution_count": 9,
   "id": "ba5e1a6c",
   "metadata": {
    "execution": {
     "iopub.execute_input": "2023-10-07T07:21:16.030407Z",
     "iopub.status.busy": "2023-10-07T07:21:16.030078Z",
     "iopub.status.idle": "2023-10-07T07:21:16.038248Z",
     "shell.execute_reply": "2023-10-07T07:21:16.037219Z"
    },
    "papermill": {
     "duration": 0.023685,
     "end_time": "2023-10-07T07:21:16.042482",
     "exception": false,
     "start_time": "2023-10-07T07:21:16.018797",
     "status": "completed"
    },
    "tags": []
   },
   "outputs": [
    {
     "data": {
      "text/plain": [
       "User_Id          0\n",
       "Place_Id         0\n",
       "Place_Ratings    0\n",
       "dtype: int64"
      ]
     },
     "execution_count": 9,
     "metadata": {},
     "output_type": "execute_result"
    }
   ],
   "source": [
    "tourism_rating.isnull().sum()"
   ]
  },
  {
   "cell_type": "code",
   "execution_count": 10,
   "id": "13116ed9",
   "metadata": {
    "execution": {
     "iopub.execute_input": "2023-10-07T07:21:16.064600Z",
     "iopub.status.busy": "2023-10-07T07:21:16.064318Z",
     "iopub.status.idle": "2023-10-07T07:21:16.076974Z",
     "shell.execute_reply": "2023-10-07T07:21:16.075432Z"
    },
    "papermill": {
     "duration": 0.027025,
     "end_time": "2023-10-07T07:21:16.079771",
     "exception": false,
     "start_time": "2023-10-07T07:21:16.052746",
     "status": "completed"
    },
    "tags": []
   },
   "outputs": [
    {
     "name": "stdout",
     "output_type": "stream",
     "text": [
      "<class 'pandas.core.frame.DataFrame'>\n",
      "RangeIndex: 300 entries, 0 to 299\n",
      "Data columns (total 3 columns):\n",
      " #   Column    Non-Null Count  Dtype \n",
      "---  ------    --------------  ----- \n",
      " 0   User_Id   300 non-null    int64 \n",
      " 1   Location  300 non-null    object\n",
      " 2   Age       300 non-null    int64 \n",
      "dtypes: int64(2), object(1)\n",
      "memory usage: 7.2+ KB\n"
     ]
    }
   ],
   "source": [
    "users.info()"
   ]
  },
  {
   "cell_type": "code",
   "execution_count": 11,
   "id": "e8b0988d",
   "metadata": {
    "execution": {
     "iopub.execute_input": "2023-10-07T07:21:16.102720Z",
     "iopub.status.busy": "2023-10-07T07:21:16.102433Z",
     "iopub.status.idle": "2023-10-07T07:21:16.111119Z",
     "shell.execute_reply": "2023-10-07T07:21:16.110215Z"
    },
    "papermill": {
     "duration": 0.022604,
     "end_time": "2023-10-07T07:21:16.113085",
     "exception": false,
     "start_time": "2023-10-07T07:21:16.090481",
     "status": "completed"
    },
    "tags": []
   },
   "outputs": [
    {
     "data": {
      "text/plain": [
       "User_Id     0\n",
       "Location    0\n",
       "Age         0\n",
       "dtype: int64"
      ]
     },
     "execution_count": 11,
     "metadata": {},
     "output_type": "execute_result"
    }
   ],
   "source": [
    "users.isnull().sum()"
   ]
  },
  {
   "cell_type": "code",
   "execution_count": 12,
   "id": "cc2f671a",
   "metadata": {
    "execution": {
     "iopub.execute_input": "2023-10-07T07:21:16.134276Z",
     "iopub.status.busy": "2023-10-07T07:21:16.133997Z",
     "iopub.status.idle": "2023-10-07T07:21:16.141836Z",
     "shell.execute_reply": "2023-10-07T07:21:16.140805Z"
    },
    "papermill": {
     "duration": 0.020833,
     "end_time": "2023-10-07T07:21:16.143836",
     "exception": false,
     "start_time": "2023-10-07T07:21:16.123003",
     "status": "completed"
    },
    "tags": []
   },
   "outputs": [
    {
     "data": {
      "text/plain": [
       "array(['Budaya', 'Taman Hiburan', 'Cagar Alam', 'Bahari',\n",
       "       'Pusat Perbelanjaan', 'Tempat Ibadah'], dtype=object)"
      ]
     },
     "execution_count": 12,
     "metadata": {},
     "output_type": "execute_result"
    }
   ],
   "source": [
    "info_tourism.Category.unique()"
   ]
  },
  {
   "cell_type": "markdown",
   "id": "c568d6d5",
   "metadata": {
    "papermill": {
     "duration": 0.009899,
     "end_time": "2023-10-07T07:21:16.165290",
     "exception": false,
     "start_time": "2023-10-07T07:21:16.155391",
     "status": "completed"
    },
    "tags": []
   },
   "source": [
    "# Data Preprocessing"
   ]
  },
  {
   "cell_type": "code",
   "execution_count": 13,
   "id": "2bc7d5f1",
   "metadata": {
    "execution": {
     "iopub.execute_input": "2023-10-07T07:21:16.188581Z",
     "iopub.status.busy": "2023-10-07T07:21:16.187613Z",
     "iopub.status.idle": "2023-10-07T07:21:16.194813Z",
     "shell.execute_reply": "2023-10-07T07:21:16.193648Z"
    },
    "papermill": {
     "duration": 0.02119,
     "end_time": "2023-10-07T07:21:16.196812",
     "exception": false,
     "start_time": "2023-10-07T07:21:16.175622",
     "status": "completed"
    },
    "tags": []
   },
   "outputs": [
    {
     "name": "stdout",
     "output_type": "stream",
     "text": [
      "Total number of tourism: 437\n"
     ]
    }
   ],
   "source": [
    "import numpy as np\n",
    "\n",
    "tourism_all = np.concatenate((\n",
    "    info_tourism.Place_Id.unique(),\n",
    "    tourism_rating.Place_Id.unique()\n",
    "))\n",
    "\n",
    "tourism_all = np.sort(np.unique(tourism_all))\n",
    "\n",
    "print(f\"Total number of tourism: {len(tourism_all)}\")"
   ]
  },
  {
   "cell_type": "code",
   "execution_count": 14,
   "id": "bd6689ad",
   "metadata": {
    "execution": {
     "iopub.execute_input": "2023-10-07T07:21:16.219897Z",
     "iopub.status.busy": "2023-10-07T07:21:16.218544Z",
     "iopub.status.idle": "2023-10-07T07:21:16.244728Z",
     "shell.execute_reply": "2023-10-07T07:21:16.243553Z"
    },
    "papermill": {
     "duration": 0.040445,
     "end_time": "2023-10-07T07:21:16.247746",
     "exception": false,
     "start_time": "2023-10-07T07:21:16.207301",
     "status": "completed"
    },
    "tags": []
   },
   "outputs": [
    {
     "data": {
      "text/html": [
       "<div>\n",
       "<style scoped>\n",
       "    .dataframe tbody tr th:only-of-type {\n",
       "        vertical-align: middle;\n",
       "    }\n",
       "\n",
       "    .dataframe tbody tr th {\n",
       "        vertical-align: top;\n",
       "    }\n",
       "\n",
       "    .dataframe thead th {\n",
       "        text-align: right;\n",
       "    }\n",
       "</style>\n",
       "<table border=\"1\" class=\"dataframe\">\n",
       "  <thead>\n",
       "    <tr style=\"text-align: right;\">\n",
       "      <th></th>\n",
       "      <th>User_Id</th>\n",
       "      <th>Place_Id</th>\n",
       "      <th>Place_Ratings</th>\n",
       "    </tr>\n",
       "  </thead>\n",
       "  <tbody>\n",
       "    <tr>\n",
       "      <th>0</th>\n",
       "      <td>1</td>\n",
       "      <td>179</td>\n",
       "      <td>3</td>\n",
       "    </tr>\n",
       "    <tr>\n",
       "      <th>1</th>\n",
       "      <td>1</td>\n",
       "      <td>344</td>\n",
       "      <td>2</td>\n",
       "    </tr>\n",
       "    <tr>\n",
       "      <th>2</th>\n",
       "      <td>1</td>\n",
       "      <td>5</td>\n",
       "      <td>5</td>\n",
       "    </tr>\n",
       "    <tr>\n",
       "      <th>3</th>\n",
       "      <td>1</td>\n",
       "      <td>373</td>\n",
       "      <td>3</td>\n",
       "    </tr>\n",
       "    <tr>\n",
       "      <th>4</th>\n",
       "      <td>1</td>\n",
       "      <td>101</td>\n",
       "      <td>4</td>\n",
       "    </tr>\n",
       "    <tr>\n",
       "      <th>...</th>\n",
       "      <td>...</td>\n",
       "      <td>...</td>\n",
       "      <td>...</td>\n",
       "    </tr>\n",
       "    <tr>\n",
       "      <th>9995</th>\n",
       "      <td>300</td>\n",
       "      <td>425</td>\n",
       "      <td>2</td>\n",
       "    </tr>\n",
       "    <tr>\n",
       "      <th>9996</th>\n",
       "      <td>300</td>\n",
       "      <td>64</td>\n",
       "      <td>4</td>\n",
       "    </tr>\n",
       "    <tr>\n",
       "      <th>9997</th>\n",
       "      <td>300</td>\n",
       "      <td>311</td>\n",
       "      <td>3</td>\n",
       "    </tr>\n",
       "    <tr>\n",
       "      <th>9998</th>\n",
       "      <td>300</td>\n",
       "      <td>279</td>\n",
       "      <td>4</td>\n",
       "    </tr>\n",
       "    <tr>\n",
       "      <th>9999</th>\n",
       "      <td>300</td>\n",
       "      <td>163</td>\n",
       "      <td>2</td>\n",
       "    </tr>\n",
       "  </tbody>\n",
       "</table>\n",
       "<p>10000 rows × 3 columns</p>\n",
       "</div>"
      ],
      "text/plain": [
       "      User_Id  Place_Id  Place_Ratings\n",
       "0           1       179              3\n",
       "1           1       344              2\n",
       "2           1         5              5\n",
       "3           1       373              3\n",
       "4           1       101              4\n",
       "...       ...       ...            ...\n",
       "9995      300       425              2\n",
       "9996      300        64              4\n",
       "9997      300       311              3\n",
       "9998      300       279              4\n",
       "9999      300       163              2\n",
       "\n",
       "[10000 rows x 3 columns]"
      ]
     },
     "execution_count": 14,
     "metadata": {},
     "output_type": "execute_result"
    }
   ],
   "source": [
    "all_tourism_rate = tourism_rating\n",
    "all_tourism_rate"
   ]
  },
  {
   "cell_type": "code",
   "execution_count": 15,
   "id": "9d83966d",
   "metadata": {
    "execution": {
     "iopub.execute_input": "2023-10-07T07:21:16.292001Z",
     "iopub.status.busy": "2023-10-07T07:21:16.291480Z",
     "iopub.status.idle": "2023-10-07T07:21:16.318994Z",
     "shell.execute_reply": "2023-10-07T07:21:16.318058Z"
    },
    "papermill": {
     "duration": 0.051518,
     "end_time": "2023-10-07T07:21:16.321181",
     "exception": false,
     "start_time": "2023-10-07T07:21:16.269663",
     "status": "completed"
    },
    "tags": []
   },
   "outputs": [
    {
     "data": {
      "text/html": [
       "<div>\n",
       "<style scoped>\n",
       "    .dataframe tbody tr th:only-of-type {\n",
       "        vertical-align: middle;\n",
       "    }\n",
       "\n",
       "    .dataframe tbody tr th {\n",
       "        vertical-align: top;\n",
       "    }\n",
       "\n",
       "    .dataframe thead th {\n",
       "        text-align: right;\n",
       "    }\n",
       "</style>\n",
       "<table border=\"1\" class=\"dataframe\">\n",
       "  <thead>\n",
       "    <tr style=\"text-align: right;\">\n",
       "      <th></th>\n",
       "      <th>User_Id</th>\n",
       "      <th>Place_Id</th>\n",
       "      <th>Place_Ratings</th>\n",
       "      <th>Place_Name</th>\n",
       "      <th>Description</th>\n",
       "      <th>City</th>\n",
       "      <th>Category</th>\n",
       "    </tr>\n",
       "  </thead>\n",
       "  <tbody>\n",
       "    <tr>\n",
       "      <th>0</th>\n",
       "      <td>1</td>\n",
       "      <td>179</td>\n",
       "      <td>3</td>\n",
       "      <td>Candi Ratu Boko</td>\n",
       "      <td>Situs Ratu Baka atau Candi Boko (Hanacaraka:ꦕꦤ...</td>\n",
       "      <td>Yogyakarta</td>\n",
       "      <td>Budaya</td>\n",
       "    </tr>\n",
       "    <tr>\n",
       "      <th>1</th>\n",
       "      <td>1</td>\n",
       "      <td>344</td>\n",
       "      <td>2</td>\n",
       "      <td>Pantai Marina</td>\n",
       "      <td>Pantai Marina (bahasa Jawa: ꦥꦱꦶꦱꦶꦂ​ꦩꦫꦶꦤ, trans...</td>\n",
       "      <td>Semarang</td>\n",
       "      <td>Bahari</td>\n",
       "    </tr>\n",
       "    <tr>\n",
       "      <th>2</th>\n",
       "      <td>1</td>\n",
       "      <td>5</td>\n",
       "      <td>5</td>\n",
       "      <td>Atlantis Water Adventure</td>\n",
       "      <td>Atlantis Water Adventure atau dikenal dengan A...</td>\n",
       "      <td>Jakarta</td>\n",
       "      <td>Taman Hiburan</td>\n",
       "    </tr>\n",
       "    <tr>\n",
       "      <th>3</th>\n",
       "      <td>1</td>\n",
       "      <td>373</td>\n",
       "      <td>3</td>\n",
       "      <td>Museum Kereta Ambarawa</td>\n",
       "      <td>Museum Kereta Api Ambarawa (bahasa Inggris: In...</td>\n",
       "      <td>Semarang</td>\n",
       "      <td>Budaya</td>\n",
       "    </tr>\n",
       "    <tr>\n",
       "      <th>4</th>\n",
       "      <td>1</td>\n",
       "      <td>101</td>\n",
       "      <td>4</td>\n",
       "      <td>Kampung Wisata Sosro Menduran</td>\n",
       "      <td>Kampung wisata Sosromenduran merupakan kampung...</td>\n",
       "      <td>Yogyakarta</td>\n",
       "      <td>Budaya</td>\n",
       "    </tr>\n",
       "    <tr>\n",
       "      <th>...</th>\n",
       "      <td>...</td>\n",
       "      <td>...</td>\n",
       "      <td>...</td>\n",
       "      <td>...</td>\n",
       "      <td>...</td>\n",
       "      <td>...</td>\n",
       "      <td>...</td>\n",
       "    </tr>\n",
       "    <tr>\n",
       "      <th>9995</th>\n",
       "      <td>300</td>\n",
       "      <td>425</td>\n",
       "      <td>2</td>\n",
       "      <td>Waterpark Kenjeran Surabaya</td>\n",
       "      <td>Waterpark Kenjeran Surabaya merupakan wisata k...</td>\n",
       "      <td>Surabaya</td>\n",
       "      <td>Taman Hiburan</td>\n",
       "    </tr>\n",
       "    <tr>\n",
       "      <th>9996</th>\n",
       "      <td>300</td>\n",
       "      <td>64</td>\n",
       "      <td>4</td>\n",
       "      <td>Museum Sasmita Loka Ahmad Yani</td>\n",
       "      <td>Museum Sasmita Loka Ahmad Yani adalah salah sa...</td>\n",
       "      <td>Jakarta</td>\n",
       "      <td>Budaya</td>\n",
       "    </tr>\n",
       "    <tr>\n",
       "      <th>9997</th>\n",
       "      <td>300</td>\n",
       "      <td>311</td>\n",
       "      <td>3</td>\n",
       "      <td>The Lodge Maribaya</td>\n",
       "      <td>The Lodge Maribaya adalah salah satu tempat wi...</td>\n",
       "      <td>Bandung</td>\n",
       "      <td>Cagar Alam</td>\n",
       "    </tr>\n",
       "    <tr>\n",
       "      <th>9998</th>\n",
       "      <td>300</td>\n",
       "      <td>279</td>\n",
       "      <td>4</td>\n",
       "      <td>Masjid Agung Trans Studio Bandung</td>\n",
       "      <td>Masjid Agung Trans Studio Bandung (TSB) berdir...</td>\n",
       "      <td>Bandung</td>\n",
       "      <td>Tempat Ibadah</td>\n",
       "    </tr>\n",
       "    <tr>\n",
       "      <th>9999</th>\n",
       "      <td>300</td>\n",
       "      <td>163</td>\n",
       "      <td>2</td>\n",
       "      <td>Watu Mabur Mangunan</td>\n",
       "      <td>Kawasan Tebing Watu Mabur ini terbilang belum ...</td>\n",
       "      <td>Yogyakarta</td>\n",
       "      <td>Cagar Alam</td>\n",
       "    </tr>\n",
       "  </tbody>\n",
       "</table>\n",
       "<p>10000 rows × 7 columns</p>\n",
       "</div>"
      ],
      "text/plain": [
       "      User_Id  Place_Id  Place_Ratings                         Place_Name  \\\n",
       "0           1       179              3                    Candi Ratu Boko   \n",
       "1           1       344              2                      Pantai Marina   \n",
       "2           1         5              5           Atlantis Water Adventure   \n",
       "3           1       373              3             Museum Kereta Ambarawa   \n",
       "4           1       101              4      Kampung Wisata Sosro Menduran   \n",
       "...       ...       ...            ...                                ...   \n",
       "9995      300       425              2        Waterpark Kenjeran Surabaya   \n",
       "9996      300        64              4     Museum Sasmita Loka Ahmad Yani   \n",
       "9997      300       311              3                 The Lodge Maribaya   \n",
       "9998      300       279              4  Masjid Agung Trans Studio Bandung   \n",
       "9999      300       163              2                Watu Mabur Mangunan   \n",
       "\n",
       "                                            Description        City  \\\n",
       "0     Situs Ratu Baka atau Candi Boko (Hanacaraka:ꦕꦤ...  Yogyakarta   \n",
       "1     Pantai Marina (bahasa Jawa: ꦥꦱꦶꦱꦶꦂ​ꦩꦫꦶꦤ, trans...    Semarang   \n",
       "2     Atlantis Water Adventure atau dikenal dengan A...     Jakarta   \n",
       "3     Museum Kereta Api Ambarawa (bahasa Inggris: In...    Semarang   \n",
       "4     Kampung wisata Sosromenduran merupakan kampung...  Yogyakarta   \n",
       "...                                                 ...         ...   \n",
       "9995  Waterpark Kenjeran Surabaya merupakan wisata k...    Surabaya   \n",
       "9996  Museum Sasmita Loka Ahmad Yani adalah salah sa...     Jakarta   \n",
       "9997  The Lodge Maribaya adalah salah satu tempat wi...     Bandung   \n",
       "9998  Masjid Agung Trans Studio Bandung (TSB) berdir...     Bandung   \n",
       "9999  Kawasan Tebing Watu Mabur ini terbilang belum ...  Yogyakarta   \n",
       "\n",
       "           Category  \n",
       "0            Budaya  \n",
       "1            Bahari  \n",
       "2     Taman Hiburan  \n",
       "3            Budaya  \n",
       "4            Budaya  \n",
       "...             ...  \n",
       "9995  Taman Hiburan  \n",
       "9996         Budaya  \n",
       "9997     Cagar Alam  \n",
       "9998  Tempat Ibadah  \n",
       "9999     Cagar Alam  \n",
       "\n",
       "[10000 rows x 7 columns]"
      ]
     },
     "execution_count": 15,
     "metadata": {},
     "output_type": "execute_result"
    }
   ],
   "source": [
    "all_tourism = pd.merge(all_tourism_rate,info_tourism[[\"Place_Id\",\"Place_Name\",\"Description\",\"City\",\"Category\"]],on='Place_Id', how='left')\n",
    "all_tourism"
   ]
  },
  {
   "cell_type": "code",
   "execution_count": 16,
   "id": "1fd3aa78",
   "metadata": {
    "execution": {
     "iopub.execute_input": "2023-10-07T07:21:16.345493Z",
     "iopub.status.busy": "2023-10-07T07:21:16.344655Z",
     "iopub.status.idle": "2023-10-07T07:21:16.559075Z",
     "shell.execute_reply": "2023-10-07T07:21:16.558095Z"
    },
    "papermill": {
     "duration": 0.228757,
     "end_time": "2023-10-07T07:21:16.561354",
     "exception": false,
     "start_time": "2023-10-07T07:21:16.332597",
     "status": "completed"
    },
    "tags": []
   },
   "outputs": [],
   "source": [
    "all_tourism['city_category'] = all_tourism[['City','Category']].agg(' '.join,axis=1)"
   ]
  },
  {
   "cell_type": "code",
   "execution_count": 17,
   "id": "4a863d68",
   "metadata": {
    "execution": {
     "iopub.execute_input": "2023-10-07T07:21:16.584726Z",
     "iopub.status.busy": "2023-10-07T07:21:16.584099Z",
     "iopub.status.idle": "2023-10-07T07:21:16.599009Z",
     "shell.execute_reply": "2023-10-07T07:21:16.598023Z"
    },
    "papermill": {
     "duration": 0.028976,
     "end_time": "2023-10-07T07:21:16.601286",
     "exception": false,
     "start_time": "2023-10-07T07:21:16.572310",
     "status": "completed"
    },
    "tags": []
   },
   "outputs": [
    {
     "data": {
      "text/html": [
       "<div>\n",
       "<style scoped>\n",
       "    .dataframe tbody tr th:only-of-type {\n",
       "        vertical-align: middle;\n",
       "    }\n",
       "\n",
       "    .dataframe tbody tr th {\n",
       "        vertical-align: top;\n",
       "    }\n",
       "\n",
       "    .dataframe thead th {\n",
       "        text-align: right;\n",
       "    }\n",
       "</style>\n",
       "<table border=\"1\" class=\"dataframe\">\n",
       "  <thead>\n",
       "    <tr style=\"text-align: right;\">\n",
       "      <th></th>\n",
       "      <th>User_Id</th>\n",
       "      <th>Place_Id</th>\n",
       "      <th>Place_Ratings</th>\n",
       "      <th>Place_Name</th>\n",
       "      <th>Description</th>\n",
       "      <th>City</th>\n",
       "      <th>Category</th>\n",
       "      <th>city_category</th>\n",
       "    </tr>\n",
       "  </thead>\n",
       "  <tbody>\n",
       "    <tr>\n",
       "      <th>0</th>\n",
       "      <td>1</td>\n",
       "      <td>179</td>\n",
       "      <td>3</td>\n",
       "      <td>Candi Ratu Boko</td>\n",
       "      <td>Situs Ratu Baka atau Candi Boko (Hanacaraka:ꦕꦤ...</td>\n",
       "      <td>Yogyakarta</td>\n",
       "      <td>Budaya</td>\n",
       "      <td>Yogyakarta Budaya</td>\n",
       "    </tr>\n",
       "    <tr>\n",
       "      <th>1</th>\n",
       "      <td>1</td>\n",
       "      <td>344</td>\n",
       "      <td>2</td>\n",
       "      <td>Pantai Marina</td>\n",
       "      <td>Pantai Marina (bahasa Jawa: ꦥꦱꦶꦱꦶꦂ​ꦩꦫꦶꦤ, trans...</td>\n",
       "      <td>Semarang</td>\n",
       "      <td>Bahari</td>\n",
       "      <td>Semarang Bahari</td>\n",
       "    </tr>\n",
       "    <tr>\n",
       "      <th>2</th>\n",
       "      <td>1</td>\n",
       "      <td>5</td>\n",
       "      <td>5</td>\n",
       "      <td>Atlantis Water Adventure</td>\n",
       "      <td>Atlantis Water Adventure atau dikenal dengan A...</td>\n",
       "      <td>Jakarta</td>\n",
       "      <td>Taman Hiburan</td>\n",
       "      <td>Jakarta Taman Hiburan</td>\n",
       "    </tr>\n",
       "    <tr>\n",
       "      <th>3</th>\n",
       "      <td>1</td>\n",
       "      <td>373</td>\n",
       "      <td>3</td>\n",
       "      <td>Museum Kereta Ambarawa</td>\n",
       "      <td>Museum Kereta Api Ambarawa (bahasa Inggris: In...</td>\n",
       "      <td>Semarang</td>\n",
       "      <td>Budaya</td>\n",
       "      <td>Semarang Budaya</td>\n",
       "    </tr>\n",
       "    <tr>\n",
       "      <th>4</th>\n",
       "      <td>1</td>\n",
       "      <td>101</td>\n",
       "      <td>4</td>\n",
       "      <td>Kampung Wisata Sosro Menduran</td>\n",
       "      <td>Kampung wisata Sosromenduran merupakan kampung...</td>\n",
       "      <td>Yogyakarta</td>\n",
       "      <td>Budaya</td>\n",
       "      <td>Yogyakarta Budaya</td>\n",
       "    </tr>\n",
       "    <tr>\n",
       "      <th>...</th>\n",
       "      <td>...</td>\n",
       "      <td>...</td>\n",
       "      <td>...</td>\n",
       "      <td>...</td>\n",
       "      <td>...</td>\n",
       "      <td>...</td>\n",
       "      <td>...</td>\n",
       "      <td>...</td>\n",
       "    </tr>\n",
       "    <tr>\n",
       "      <th>9995</th>\n",
       "      <td>300</td>\n",
       "      <td>425</td>\n",
       "      <td>2</td>\n",
       "      <td>Waterpark Kenjeran Surabaya</td>\n",
       "      <td>Waterpark Kenjeran Surabaya merupakan wisata k...</td>\n",
       "      <td>Surabaya</td>\n",
       "      <td>Taman Hiburan</td>\n",
       "      <td>Surabaya Taman Hiburan</td>\n",
       "    </tr>\n",
       "    <tr>\n",
       "      <th>9996</th>\n",
       "      <td>300</td>\n",
       "      <td>64</td>\n",
       "      <td>4</td>\n",
       "      <td>Museum Sasmita Loka Ahmad Yani</td>\n",
       "      <td>Museum Sasmita Loka Ahmad Yani adalah salah sa...</td>\n",
       "      <td>Jakarta</td>\n",
       "      <td>Budaya</td>\n",
       "      <td>Jakarta Budaya</td>\n",
       "    </tr>\n",
       "    <tr>\n",
       "      <th>9997</th>\n",
       "      <td>300</td>\n",
       "      <td>311</td>\n",
       "      <td>3</td>\n",
       "      <td>The Lodge Maribaya</td>\n",
       "      <td>The Lodge Maribaya adalah salah satu tempat wi...</td>\n",
       "      <td>Bandung</td>\n",
       "      <td>Cagar Alam</td>\n",
       "      <td>Bandung Cagar Alam</td>\n",
       "    </tr>\n",
       "    <tr>\n",
       "      <th>9998</th>\n",
       "      <td>300</td>\n",
       "      <td>279</td>\n",
       "      <td>4</td>\n",
       "      <td>Masjid Agung Trans Studio Bandung</td>\n",
       "      <td>Masjid Agung Trans Studio Bandung (TSB) berdir...</td>\n",
       "      <td>Bandung</td>\n",
       "      <td>Tempat Ibadah</td>\n",
       "      <td>Bandung Tempat Ibadah</td>\n",
       "    </tr>\n",
       "    <tr>\n",
       "      <th>9999</th>\n",
       "      <td>300</td>\n",
       "      <td>163</td>\n",
       "      <td>2</td>\n",
       "      <td>Watu Mabur Mangunan</td>\n",
       "      <td>Kawasan Tebing Watu Mabur ini terbilang belum ...</td>\n",
       "      <td>Yogyakarta</td>\n",
       "      <td>Cagar Alam</td>\n",
       "      <td>Yogyakarta Cagar Alam</td>\n",
       "    </tr>\n",
       "  </tbody>\n",
       "</table>\n",
       "<p>10000 rows × 8 columns</p>\n",
       "</div>"
      ],
      "text/plain": [
       "      User_Id  Place_Id  Place_Ratings                         Place_Name  \\\n",
       "0           1       179              3                    Candi Ratu Boko   \n",
       "1           1       344              2                      Pantai Marina   \n",
       "2           1         5              5           Atlantis Water Adventure   \n",
       "3           1       373              3             Museum Kereta Ambarawa   \n",
       "4           1       101              4      Kampung Wisata Sosro Menduran   \n",
       "...       ...       ...            ...                                ...   \n",
       "9995      300       425              2        Waterpark Kenjeran Surabaya   \n",
       "9996      300        64              4     Museum Sasmita Loka Ahmad Yani   \n",
       "9997      300       311              3                 The Lodge Maribaya   \n",
       "9998      300       279              4  Masjid Agung Trans Studio Bandung   \n",
       "9999      300       163              2                Watu Mabur Mangunan   \n",
       "\n",
       "                                            Description        City  \\\n",
       "0     Situs Ratu Baka atau Candi Boko (Hanacaraka:ꦕꦤ...  Yogyakarta   \n",
       "1     Pantai Marina (bahasa Jawa: ꦥꦱꦶꦱꦶꦂ​ꦩꦫꦶꦤ, trans...    Semarang   \n",
       "2     Atlantis Water Adventure atau dikenal dengan A...     Jakarta   \n",
       "3     Museum Kereta Api Ambarawa (bahasa Inggris: In...    Semarang   \n",
       "4     Kampung wisata Sosromenduran merupakan kampung...  Yogyakarta   \n",
       "...                                                 ...         ...   \n",
       "9995  Waterpark Kenjeran Surabaya merupakan wisata k...    Surabaya   \n",
       "9996  Museum Sasmita Loka Ahmad Yani adalah salah sa...     Jakarta   \n",
       "9997  The Lodge Maribaya adalah salah satu tempat wi...     Bandung   \n",
       "9998  Masjid Agung Trans Studio Bandung (TSB) berdir...     Bandung   \n",
       "9999  Kawasan Tebing Watu Mabur ini terbilang belum ...  Yogyakarta   \n",
       "\n",
       "           Category           city_category  \n",
       "0            Budaya       Yogyakarta Budaya  \n",
       "1            Bahari         Semarang Bahari  \n",
       "2     Taman Hiburan   Jakarta Taman Hiburan  \n",
       "3            Budaya         Semarang Budaya  \n",
       "4            Budaya       Yogyakarta Budaya  \n",
       "...             ...                     ...  \n",
       "9995  Taman Hiburan  Surabaya Taman Hiburan  \n",
       "9996         Budaya          Jakarta Budaya  \n",
       "9997     Cagar Alam      Bandung Cagar Alam  \n",
       "9998  Tempat Ibadah   Bandung Tempat Ibadah  \n",
       "9999     Cagar Alam   Yogyakarta Cagar Alam  \n",
       "\n",
       "[10000 rows x 8 columns]"
      ]
     },
     "execution_count": 17,
     "metadata": {},
     "output_type": "execute_result"
    }
   ],
   "source": [
    "all_tourism"
   ]
  },
  {
   "cell_type": "markdown",
   "id": "3e2e9adb",
   "metadata": {
    "papermill": {
     "duration": 0.011393,
     "end_time": "2023-10-07T07:21:16.624019",
     "exception": false,
     "start_time": "2023-10-07T07:21:16.612626",
     "status": "completed"
    },
    "tags": []
   },
   "source": [
    "# Data Preparation"
   ]
  },
  {
   "cell_type": "markdown",
   "id": "e235eef7",
   "metadata": {
    "papermill": {
     "duration": 0.011705,
     "end_time": "2023-10-07T07:21:16.647263",
     "exception": false,
     "start_time": "2023-10-07T07:21:16.635558",
     "status": "completed"
    },
    "tags": []
   },
   "source": [
    "## Missing Values"
   ]
  },
  {
   "cell_type": "code",
   "execution_count": 18,
   "id": "4d7bd98b",
   "metadata": {
    "execution": {
     "iopub.execute_input": "2023-10-07T07:21:16.672384Z",
     "iopub.status.busy": "2023-10-07T07:21:16.672047Z",
     "iopub.status.idle": "2023-10-07T07:21:16.683804Z",
     "shell.execute_reply": "2023-10-07T07:21:16.682857Z"
    },
    "papermill": {
     "duration": 0.026928,
     "end_time": "2023-10-07T07:21:16.685723",
     "exception": false,
     "start_time": "2023-10-07T07:21:16.658795",
     "status": "completed"
    },
    "tags": []
   },
   "outputs": [
    {
     "data": {
      "text/plain": [
       "User_Id          0\n",
       "Place_Id         0\n",
       "Place_Ratings    0\n",
       "Place_Name       0\n",
       "Description      0\n",
       "City             0\n",
       "Category         0\n",
       "city_category    0\n",
       "dtype: int64"
      ]
     },
     "execution_count": 18,
     "metadata": {},
     "output_type": "execute_result"
    }
   ],
   "source": [
    "all_tourism.isnull().sum()"
   ]
  },
  {
   "cell_type": "code",
   "execution_count": 19,
   "id": "2811494f",
   "metadata": {
    "execution": {
     "iopub.execute_input": "2023-10-07T07:21:16.710676Z",
     "iopub.status.busy": "2023-10-07T07:21:16.709767Z",
     "iopub.status.idle": "2023-10-07T07:21:16.726524Z",
     "shell.execute_reply": "2023-10-07T07:21:16.725610Z"
    },
    "papermill": {
     "duration": 0.031425,
     "end_time": "2023-10-07T07:21:16.728548",
     "exception": false,
     "start_time": "2023-10-07T07:21:16.697123",
     "status": "completed"
    },
    "tags": []
   },
   "outputs": [
    {
     "data": {
      "text/html": [
       "<div>\n",
       "<style scoped>\n",
       "    .dataframe tbody tr th:only-of-type {\n",
       "        vertical-align: middle;\n",
       "    }\n",
       "\n",
       "    .dataframe tbody tr th {\n",
       "        vertical-align: top;\n",
       "    }\n",
       "\n",
       "    .dataframe thead th {\n",
       "        text-align: right;\n",
       "    }\n",
       "</style>\n",
       "<table border=\"1\" class=\"dataframe\">\n",
       "  <thead>\n",
       "    <tr style=\"text-align: right;\">\n",
       "      <th></th>\n",
       "      <th>User_Id</th>\n",
       "      <th>Place_Id</th>\n",
       "      <th>Place_Ratings</th>\n",
       "      <th>Place_Name</th>\n",
       "      <th>Description</th>\n",
       "      <th>City</th>\n",
       "      <th>Category</th>\n",
       "      <th>city_category</th>\n",
       "    </tr>\n",
       "  </thead>\n",
       "  <tbody>\n",
       "    <tr>\n",
       "      <th>0</th>\n",
       "      <td>1</td>\n",
       "      <td>179</td>\n",
       "      <td>3</td>\n",
       "      <td>Candi Ratu Boko</td>\n",
       "      <td>Situs Ratu Baka atau Candi Boko (Hanacaraka:ꦕꦤ...</td>\n",
       "      <td>Yogyakarta</td>\n",
       "      <td>Budaya</td>\n",
       "      <td>Yogyakarta Budaya</td>\n",
       "    </tr>\n",
       "    <tr>\n",
       "      <th>1</th>\n",
       "      <td>1</td>\n",
       "      <td>344</td>\n",
       "      <td>2</td>\n",
       "      <td>Pantai Marina</td>\n",
       "      <td>Pantai Marina (bahasa Jawa: ꦥꦱꦶꦱꦶꦂ​ꦩꦫꦶꦤ, trans...</td>\n",
       "      <td>Semarang</td>\n",
       "      <td>Bahari</td>\n",
       "      <td>Semarang Bahari</td>\n",
       "    </tr>\n",
       "    <tr>\n",
       "      <th>2</th>\n",
       "      <td>1</td>\n",
       "      <td>5</td>\n",
       "      <td>5</td>\n",
       "      <td>Atlantis Water Adventure</td>\n",
       "      <td>Atlantis Water Adventure atau dikenal dengan A...</td>\n",
       "      <td>Jakarta</td>\n",
       "      <td>Taman Hiburan</td>\n",
       "      <td>Jakarta Taman Hiburan</td>\n",
       "    </tr>\n",
       "    <tr>\n",
       "      <th>3</th>\n",
       "      <td>1</td>\n",
       "      <td>373</td>\n",
       "      <td>3</td>\n",
       "      <td>Museum Kereta Ambarawa</td>\n",
       "      <td>Museum Kereta Api Ambarawa (bahasa Inggris: In...</td>\n",
       "      <td>Semarang</td>\n",
       "      <td>Budaya</td>\n",
       "      <td>Semarang Budaya</td>\n",
       "    </tr>\n",
       "    <tr>\n",
       "      <th>4</th>\n",
       "      <td>1</td>\n",
       "      <td>101</td>\n",
       "      <td>4</td>\n",
       "      <td>Kampung Wisata Sosro Menduran</td>\n",
       "      <td>Kampung wisata Sosromenduran merupakan kampung...</td>\n",
       "      <td>Yogyakarta</td>\n",
       "      <td>Budaya</td>\n",
       "      <td>Yogyakarta Budaya</td>\n",
       "    </tr>\n",
       "    <tr>\n",
       "      <th>...</th>\n",
       "      <td>...</td>\n",
       "      <td>...</td>\n",
       "      <td>...</td>\n",
       "      <td>...</td>\n",
       "      <td>...</td>\n",
       "      <td>...</td>\n",
       "      <td>...</td>\n",
       "      <td>...</td>\n",
       "    </tr>\n",
       "    <tr>\n",
       "      <th>2008</th>\n",
       "      <td>62</td>\n",
       "      <td>370</td>\n",
       "      <td>1</td>\n",
       "      <td>Benteng Pendem</td>\n",
       "      <td>Benteng Pendem Cilacap (bahasa Belanda: Kustba...</td>\n",
       "      <td>Semarang</td>\n",
       "      <td>Budaya</td>\n",
       "      <td>Semarang Budaya</td>\n",
       "    </tr>\n",
       "    <tr>\n",
       "      <th>2399</th>\n",
       "      <td>74</td>\n",
       "      <td>350</td>\n",
       "      <td>4</td>\n",
       "      <td>Pantai Cipta</td>\n",
       "      <td>Pantai Cipta juga dikenal sebagai Pantai Petik...</td>\n",
       "      <td>Semarang</td>\n",
       "      <td>Bahari</td>\n",
       "      <td>Semarang Bahari</td>\n",
       "    </tr>\n",
       "    <tr>\n",
       "      <th>2448</th>\n",
       "      <td>75</td>\n",
       "      <td>10</td>\n",
       "      <td>2</td>\n",
       "      <td>Pulau Tidung</td>\n",
       "      <td>Pulau Tidung adalah salah satu kelurahan di ke...</td>\n",
       "      <td>Jakarta</td>\n",
       "      <td>Bahari</td>\n",
       "      <td>Jakarta Bahari</td>\n",
       "    </tr>\n",
       "    <tr>\n",
       "      <th>2534</th>\n",
       "      <td>78</td>\n",
       "      <td>7</td>\n",
       "      <td>4</td>\n",
       "      <td>Kebun Binatang Ragunan</td>\n",
       "      <td>Kebun Binatang Ragunan adalah sebuah kebun bin...</td>\n",
       "      <td>Jakarta</td>\n",
       "      <td>Cagar Alam</td>\n",
       "      <td>Jakarta Cagar Alam</td>\n",
       "    </tr>\n",
       "    <tr>\n",
       "      <th>2918</th>\n",
       "      <td>90</td>\n",
       "      <td>140</td>\n",
       "      <td>1</td>\n",
       "      <td>Bendung Lepen</td>\n",
       "      <td>Bendung Lepen sendiri dulunya merupakan salura...</td>\n",
       "      <td>Yogyakarta</td>\n",
       "      <td>Taman Hiburan</td>\n",
       "      <td>Yogyakarta Taman Hiburan</td>\n",
       "    </tr>\n",
       "  </tbody>\n",
       "</table>\n",
       "<p>437 rows × 8 columns</p>\n",
       "</div>"
      ],
      "text/plain": [
       "      User_Id  Place_Id  Place_Ratings                     Place_Name  \\\n",
       "0           1       179              3                Candi Ratu Boko   \n",
       "1           1       344              2                  Pantai Marina   \n",
       "2           1         5              5       Atlantis Water Adventure   \n",
       "3           1       373              3         Museum Kereta Ambarawa   \n",
       "4           1       101              4  Kampung Wisata Sosro Menduran   \n",
       "...       ...       ...            ...                            ...   \n",
       "2008       62       370              1                 Benteng Pendem   \n",
       "2399       74       350              4                   Pantai Cipta   \n",
       "2448       75        10              2                   Pulau Tidung   \n",
       "2534       78         7              4         Kebun Binatang Ragunan   \n",
       "2918       90       140              1                  Bendung Lepen   \n",
       "\n",
       "                                            Description        City  \\\n",
       "0     Situs Ratu Baka atau Candi Boko (Hanacaraka:ꦕꦤ...  Yogyakarta   \n",
       "1     Pantai Marina (bahasa Jawa: ꦥꦱꦶꦱꦶꦂ​ꦩꦫꦶꦤ, trans...    Semarang   \n",
       "2     Atlantis Water Adventure atau dikenal dengan A...     Jakarta   \n",
       "3     Museum Kereta Api Ambarawa (bahasa Inggris: In...    Semarang   \n",
       "4     Kampung wisata Sosromenduran merupakan kampung...  Yogyakarta   \n",
       "...                                                 ...         ...   \n",
       "2008  Benteng Pendem Cilacap (bahasa Belanda: Kustba...    Semarang   \n",
       "2399  Pantai Cipta juga dikenal sebagai Pantai Petik...    Semarang   \n",
       "2448  Pulau Tidung adalah salah satu kelurahan di ke...     Jakarta   \n",
       "2534  Kebun Binatang Ragunan adalah sebuah kebun bin...     Jakarta   \n",
       "2918  Bendung Lepen sendiri dulunya merupakan salura...  Yogyakarta   \n",
       "\n",
       "           Category             city_category  \n",
       "0            Budaya         Yogyakarta Budaya  \n",
       "1            Bahari           Semarang Bahari  \n",
       "2     Taman Hiburan     Jakarta Taman Hiburan  \n",
       "3            Budaya           Semarang Budaya  \n",
       "4            Budaya         Yogyakarta Budaya  \n",
       "...             ...                       ...  \n",
       "2008         Budaya           Semarang Budaya  \n",
       "2399         Bahari           Semarang Bahari  \n",
       "2448         Bahari            Jakarta Bahari  \n",
       "2534     Cagar Alam        Jakarta Cagar Alam  \n",
       "2918  Taman Hiburan  Yogyakarta Taman Hiburan  \n",
       "\n",
       "[437 rows x 8 columns]"
      ]
     },
     "execution_count": 19,
     "metadata": {},
     "output_type": "execute_result"
    }
   ],
   "source": [
    "preparation= all_tourism.drop_duplicates(\"Place_Id\")\n",
    "preparation"
   ]
  },
  {
   "cell_type": "code",
   "execution_count": 20,
   "id": "fab4a81b",
   "metadata": {
    "execution": {
     "iopub.execute_input": "2023-10-07T07:21:16.755760Z",
     "iopub.status.busy": "2023-10-07T07:21:16.754768Z",
     "iopub.status.idle": "2023-10-07T07:21:16.761563Z",
     "shell.execute_reply": "2023-10-07T07:21:16.760616Z"
    },
    "papermill": {
     "duration": 0.022319,
     "end_time": "2023-10-07T07:21:16.763576",
     "exception": false,
     "start_time": "2023-10-07T07:21:16.741257",
     "status": "completed"
    },
    "tags": []
   },
   "outputs": [],
   "source": [
    "place_id = preparation.Place_Id.tolist()\n",
    "\n",
    "place_name = preparation.Place_Name.tolist()\n",
    "\n",
    "place_category = preparation.Category.tolist()\n",
    "\n",
    "place_desc = preparation.Description.tolist()\n",
    "\n",
    "place_city = preparation.City.tolist()\n",
    "\n",
    "city_category = preparation.city_category.tolist()"
   ]
  },
  {
   "cell_type": "code",
   "execution_count": 21,
   "id": "503473bc",
   "metadata": {
    "execution": {
     "iopub.execute_input": "2023-10-07T07:21:16.790282Z",
     "iopub.status.busy": "2023-10-07T07:21:16.789968Z",
     "iopub.status.idle": "2023-10-07T07:21:16.805148Z",
     "shell.execute_reply": "2023-10-07T07:21:16.804249Z"
    },
    "papermill": {
     "duration": 0.030781,
     "end_time": "2023-10-07T07:21:16.806913",
     "exception": false,
     "start_time": "2023-10-07T07:21:16.776132",
     "status": "completed"
    },
    "tags": []
   },
   "outputs": [
    {
     "data": {
      "text/html": [
       "<div>\n",
       "<style scoped>\n",
       "    .dataframe tbody tr th:only-of-type {\n",
       "        vertical-align: middle;\n",
       "    }\n",
       "\n",
       "    .dataframe tbody tr th {\n",
       "        vertical-align: top;\n",
       "    }\n",
       "\n",
       "    .dataframe thead th {\n",
       "        text-align: right;\n",
       "    }\n",
       "</style>\n",
       "<table border=\"1\" class=\"dataframe\">\n",
       "  <thead>\n",
       "    <tr style=\"text-align: right;\">\n",
       "      <th></th>\n",
       "      <th>id</th>\n",
       "      <th>name</th>\n",
       "      <th>category</th>\n",
       "      <th>description</th>\n",
       "      <th>city</th>\n",
       "      <th>city_category</th>\n",
       "    </tr>\n",
       "  </thead>\n",
       "  <tbody>\n",
       "    <tr>\n",
       "      <th>0</th>\n",
       "      <td>179</td>\n",
       "      <td>Candi Ratu Boko</td>\n",
       "      <td>Budaya</td>\n",
       "      <td>Situs Ratu Baka atau Candi Boko (Hanacaraka:ꦕꦤ...</td>\n",
       "      <td>Yogyakarta</td>\n",
       "      <td>Yogyakarta Budaya</td>\n",
       "    </tr>\n",
       "    <tr>\n",
       "      <th>1</th>\n",
       "      <td>344</td>\n",
       "      <td>Pantai Marina</td>\n",
       "      <td>Bahari</td>\n",
       "      <td>Pantai Marina (bahasa Jawa: ꦥꦱꦶꦱꦶꦂ​ꦩꦫꦶꦤ, trans...</td>\n",
       "      <td>Semarang</td>\n",
       "      <td>Semarang Bahari</td>\n",
       "    </tr>\n",
       "    <tr>\n",
       "      <th>2</th>\n",
       "      <td>5</td>\n",
       "      <td>Atlantis Water Adventure</td>\n",
       "      <td>Taman Hiburan</td>\n",
       "      <td>Atlantis Water Adventure atau dikenal dengan A...</td>\n",
       "      <td>Jakarta</td>\n",
       "      <td>Jakarta Taman Hiburan</td>\n",
       "    </tr>\n",
       "    <tr>\n",
       "      <th>3</th>\n",
       "      <td>373</td>\n",
       "      <td>Museum Kereta Ambarawa</td>\n",
       "      <td>Budaya</td>\n",
       "      <td>Museum Kereta Api Ambarawa (bahasa Inggris: In...</td>\n",
       "      <td>Semarang</td>\n",
       "      <td>Semarang Budaya</td>\n",
       "    </tr>\n",
       "    <tr>\n",
       "      <th>4</th>\n",
       "      <td>101</td>\n",
       "      <td>Kampung Wisata Sosro Menduran</td>\n",
       "      <td>Budaya</td>\n",
       "      <td>Kampung wisata Sosromenduran merupakan kampung...</td>\n",
       "      <td>Yogyakarta</td>\n",
       "      <td>Yogyakarta Budaya</td>\n",
       "    </tr>\n",
       "    <tr>\n",
       "      <th>...</th>\n",
       "      <td>...</td>\n",
       "      <td>...</td>\n",
       "      <td>...</td>\n",
       "      <td>...</td>\n",
       "      <td>...</td>\n",
       "      <td>...</td>\n",
       "    </tr>\n",
       "    <tr>\n",
       "      <th>432</th>\n",
       "      <td>370</td>\n",
       "      <td>Benteng Pendem</td>\n",
       "      <td>Budaya</td>\n",
       "      <td>Benteng Pendem Cilacap (bahasa Belanda: Kustba...</td>\n",
       "      <td>Semarang</td>\n",
       "      <td>Semarang Budaya</td>\n",
       "    </tr>\n",
       "    <tr>\n",
       "      <th>433</th>\n",
       "      <td>350</td>\n",
       "      <td>Pantai Cipta</td>\n",
       "      <td>Bahari</td>\n",
       "      <td>Pantai Cipta juga dikenal sebagai Pantai Petik...</td>\n",
       "      <td>Semarang</td>\n",
       "      <td>Semarang Bahari</td>\n",
       "    </tr>\n",
       "    <tr>\n",
       "      <th>434</th>\n",
       "      <td>10</td>\n",
       "      <td>Pulau Tidung</td>\n",
       "      <td>Bahari</td>\n",
       "      <td>Pulau Tidung adalah salah satu kelurahan di ke...</td>\n",
       "      <td>Jakarta</td>\n",
       "      <td>Jakarta Bahari</td>\n",
       "    </tr>\n",
       "    <tr>\n",
       "      <th>435</th>\n",
       "      <td>7</td>\n",
       "      <td>Kebun Binatang Ragunan</td>\n",
       "      <td>Cagar Alam</td>\n",
       "      <td>Kebun Binatang Ragunan adalah sebuah kebun bin...</td>\n",
       "      <td>Jakarta</td>\n",
       "      <td>Jakarta Cagar Alam</td>\n",
       "    </tr>\n",
       "    <tr>\n",
       "      <th>436</th>\n",
       "      <td>140</td>\n",
       "      <td>Bendung Lepen</td>\n",
       "      <td>Taman Hiburan</td>\n",
       "      <td>Bendung Lepen sendiri dulunya merupakan salura...</td>\n",
       "      <td>Yogyakarta</td>\n",
       "      <td>Yogyakarta Taman Hiburan</td>\n",
       "    </tr>\n",
       "  </tbody>\n",
       "</table>\n",
       "<p>437 rows × 6 columns</p>\n",
       "</div>"
      ],
      "text/plain": [
       "      id                           name       category  \\\n",
       "0    179                Candi Ratu Boko         Budaya   \n",
       "1    344                  Pantai Marina         Bahari   \n",
       "2      5       Atlantis Water Adventure  Taman Hiburan   \n",
       "3    373         Museum Kereta Ambarawa         Budaya   \n",
       "4    101  Kampung Wisata Sosro Menduran         Budaya   \n",
       "..   ...                            ...            ...   \n",
       "432  370                 Benteng Pendem         Budaya   \n",
       "433  350                   Pantai Cipta         Bahari   \n",
       "434   10                   Pulau Tidung         Bahari   \n",
       "435    7         Kebun Binatang Ragunan     Cagar Alam   \n",
       "436  140                  Bendung Lepen  Taman Hiburan   \n",
       "\n",
       "                                           description        city  \\\n",
       "0    Situs Ratu Baka atau Candi Boko (Hanacaraka:ꦕꦤ...  Yogyakarta   \n",
       "1    Pantai Marina (bahasa Jawa: ꦥꦱꦶꦱꦶꦂ​ꦩꦫꦶꦤ, trans...    Semarang   \n",
       "2    Atlantis Water Adventure atau dikenal dengan A...     Jakarta   \n",
       "3    Museum Kereta Api Ambarawa (bahasa Inggris: In...    Semarang   \n",
       "4    Kampung wisata Sosromenduran merupakan kampung...  Yogyakarta   \n",
       "..                                                 ...         ...   \n",
       "432  Benteng Pendem Cilacap (bahasa Belanda: Kustba...    Semarang   \n",
       "433  Pantai Cipta juga dikenal sebagai Pantai Petik...    Semarang   \n",
       "434  Pulau Tidung adalah salah satu kelurahan di ke...     Jakarta   \n",
       "435  Kebun Binatang Ragunan adalah sebuah kebun bin...     Jakarta   \n",
       "436  Bendung Lepen sendiri dulunya merupakan salura...  Yogyakarta   \n",
       "\n",
       "                city_category  \n",
       "0           Yogyakarta Budaya  \n",
       "1             Semarang Bahari  \n",
       "2       Jakarta Taman Hiburan  \n",
       "3             Semarang Budaya  \n",
       "4           Yogyakarta Budaya  \n",
       "..                        ...  \n",
       "432           Semarang Budaya  \n",
       "433           Semarang Bahari  \n",
       "434            Jakarta Bahari  \n",
       "435        Jakarta Cagar Alam  \n",
       "436  Yogyakarta Taman Hiburan  \n",
       "\n",
       "[437 rows x 6 columns]"
      ]
     },
     "execution_count": 21,
     "metadata": {},
     "output_type": "execute_result"
    }
   ],
   "source": [
    "tourism_new = pd.DataFrame({\n",
    "    \"id\":place_id,\n",
    "    \"name\":place_name,\n",
    "    \"category\":place_category,\n",
    "    \"description\":place_desc,\n",
    "    \"city\":place_city,\n",
    "    \"city_category\":city_category\n",
    "})\n",
    "\n",
    "tourism_new"
   ]
  },
  {
   "cell_type": "code",
   "execution_count": 22,
   "id": "8e387552",
   "metadata": {
    "execution": {
     "iopub.execute_input": "2023-10-07T07:21:16.831893Z",
     "iopub.status.busy": "2023-10-07T07:21:16.831065Z",
     "iopub.status.idle": "2023-10-07T07:21:17.110851Z",
     "shell.execute_reply": "2023-10-07T07:21:17.109897Z"
    },
    "papermill": {
     "duration": 0.294424,
     "end_time": "2023-10-07T07:21:17.112985",
     "exception": false,
     "start_time": "2023-10-07T07:21:16.818561",
     "status": "completed"
    },
    "tags": []
   },
   "outputs": [
    {
     "name": "stderr",
     "output_type": "stream",
     "text": [
      "/opt/conda/lib/python3.7/site-packages/seaborn/_decorators.py:43: FutureWarning: Pass the following variables as keyword args: x, y. From version 0.12, the only valid positional argument will be `data`, and passing other arguments without an explicit keyword will result in an error or misinterpretation.\n",
      "  FutureWarning\n"
     ]
    },
    {
     "data": {
      "image/png": "[encoded data removed]",
      "text/plain": [
       "<Figure size 576x360 with 1 Axes>"
      ]
     },
     "metadata": {
      "needs_background": "light"
     },
     "output_type": "display_data"
    }
   ],
   "source": [
    "top_10 = tourism_new['id'].value_counts().reset_index()[0:10]\n",
    "top_10 = pd.merge(top_10,preparation[['Place_Id','Place_Name']], how='left', left_on='index', right_on='Place_Id')\n",
    "\n",
    "# Membuat visualisasi wisata dengan jumlah rating terbanyak\n",
    "plt.figure(figsize=(8,5))\n",
    "sns.barplot('Place_Id', 'Place_Name', data=top_10)\n",
    "plt.title('Jumlah Tempat Wisata dengan Rating Terbanyak', pad=20)\n",
    "plt.ylabel('Jumlah Rating')\n",
    "plt.xlabel('Nama Lokasi')\n",
    "plt.show()"
   ]
  },
  {
   "cell_type": "code",
   "execution_count": 23,
   "id": "7dcb57f3",
   "metadata": {
    "execution": {
     "iopub.execute_input": "2023-10-07T07:21:17.139933Z",
     "iopub.status.busy": "2023-10-07T07:21:17.139168Z",
     "iopub.status.idle": "2023-10-07T07:21:17.334302Z",
     "shell.execute_reply": "2023-10-07T07:21:17.333402Z"
    },
    "papermill": {
     "duration": 0.210839,
     "end_time": "2023-10-07T07:21:17.336228",
     "exception": false,
     "start_time": "2023-10-07T07:21:17.125389",
     "status": "completed"
    },
    "tags": []
   },
   "outputs": [
    {
     "data": {
      "image/png": "[encoded data removed]",
      "text/plain": [
       "<Figure size 432x288 with 1 Axes>"
      ]
     },
     "metadata": {
      "needs_background": "light"
     },
     "output_type": "display_data"
    }
   ],
   "source": [
    "sns.countplot(y='Category', data=preparation)\n",
    "plt.title('Perbandingan Jumlah Kategori Wisata di Kota Bandung', pad=20)\n",
    "plt.show()"
   ]
  },
  {
   "cell_type": "code",
   "execution_count": 24,
   "id": "851c61e9",
   "metadata": {
    "execution": {
     "iopub.execute_input": "2023-10-07T07:21:17.362950Z",
     "iopub.status.busy": "2023-10-07T07:21:17.362146Z",
     "iopub.status.idle": "2023-10-07T07:21:17.497265Z",
     "shell.execute_reply": "2023-10-07T07:21:17.496305Z"
    },
    "papermill": {
     "duration": 0.151416,
     "end_time": "2023-10-07T07:21:17.500169",
     "exception": false,
     "start_time": "2023-10-07T07:21:17.348753",
     "status": "completed"
    },
    "tags": []
   },
   "outputs": [
    {
     "name": "stderr",
     "output_type": "stream",
     "text": [
      "/opt/conda/lib/python3.7/site-packages/seaborn/_decorators.py:43: FutureWarning: Pass the following variable as a keyword arg: x. From version 0.12, the only valid positional argument will be `data`, and passing other arguments without an explicit keyword will result in an error or misinterpretation.\n",
      "  FutureWarning\n"
     ]
    },
    {
     "data": {
      "image/png": "[encoded data removed]",
      "text/plain": [
       "<Figure size 360x216 with 1 Axes>"
      ]
     },
     "metadata": {
      "needs_background": "light"
     },
     "output_type": "display_data"
    }
   ],
   "source": [
    "plt.figure(figsize=(5,3))\n",
    "sns.boxplot(users['Age']);\n",
    "plt.title('Distribusi Usia User', pad=20)\n",
    "plt.show()"
   ]
  },
  {
   "cell_type": "code",
   "execution_count": 25,
   "id": "868e2df7",
   "metadata": {
    "execution": {
     "iopub.execute_input": "2023-10-07T07:21:17.541633Z",
     "iopub.status.busy": "2023-10-07T07:21:17.541297Z",
     "iopub.status.idle": "2023-10-07T07:21:17.800778Z",
     "shell.execute_reply": "2023-10-07T07:21:17.799367Z"
    },
    "papermill": {
     "duration": 0.276785,
     "end_time": "2023-10-07T07:21:17.804190",
     "exception": false,
     "start_time": "2023-10-07T07:21:17.527405",
     "status": "completed"
    },
    "tags": []
   },
   "outputs": [
    {
     "name": "stderr",
     "output_type": "stream",
     "text": [
      "/opt/conda/lib/python3.7/site-packages/seaborn/_decorators.py:43: FutureWarning: Pass the following variable as a keyword arg: x. From version 0.12, the only valid positional argument will be `data`, and passing other arguments without an explicit keyword will result in an error or misinterpretation.\n",
      "  FutureWarning\n"
     ]
    },
    {
     "data": {
      "image/png": "[encoded data removed]",
      "text/plain": [
       "<Figure size 504x216 with 1 Axes>"
      ]
     },
     "metadata": {
      "needs_background": "light"
     },
     "output_type": "display_data"
    }
   ],
   "source": [
    "plt.figure(figsize=(7,3))\n",
    "sns.boxplot(info_tourism['Price'])\n",
    "plt.title('Distribusi Harga Masuk Wisata di Kota Bandung', pad=20)\n",
    "plt.show()"
   ]
  },
  {
   "cell_type": "code",
   "execution_count": 26,
   "id": "dd8e6868",
   "metadata": {
    "execution": {
     "iopub.execute_input": "2023-10-07T07:21:17.834419Z",
     "iopub.status.busy": "2023-10-07T07:21:17.834115Z",
     "iopub.status.idle": "2023-10-07T07:21:18.167927Z",
     "shell.execute_reply": "2023-10-07T07:21:18.167002Z"
    },
    "papermill": {
     "duration": 0.34981,
     "end_time": "2023-10-07T07:21:18.169917",
     "exception": false,
     "start_time": "2023-10-07T07:21:17.820107",
     "status": "completed"
    },
    "tags": []
   },
   "outputs": [
    {
     "data": {
      "image/png": "[encoded data removed]",
      "text/plain": [
       "<Figure size 576x432 with 1 Axes>"
      ]
     },
     "metadata": {
      "needs_background": "light"
     },
     "output_type": "display_data"
    }
   ],
   "source": [
    "askot = users['Location'].apply(lambda x : x.split(',')[0])\n",
    "\n",
    "# Visualisasi asal kota dari user\n",
    "plt.figure(figsize=(8,6))\n",
    "sns.countplot(y=askot)\n",
    "plt.title('Jumlah Asal Kota dari User')\n",
    "plt.show()"
   ]
  },
  {
   "cell_type": "markdown",
   "id": "9b5de65e",
   "metadata": {
    "papermill": {
     "duration": 0.013213,
     "end_time": "2023-10-07T07:21:18.196614",
     "exception": false,
     "start_time": "2023-10-07T07:21:18.183401",
     "status": "completed"
    },
    "tags": []
   },
   "source": [
    "#### "
   ]
  },
  {
   "cell_type": "markdown",
   "id": "f004408d",
   "metadata": {
    "papermill": {
     "duration": 0.014073,
     "end_time": "2023-10-07T07:21:18.224291",
     "exception": false,
     "start_time": "2023-10-07T07:21:18.210218",
     "status": "completed"
    },
    "tags": []
   },
   "source": [
    "# Content Based Filtering"
   ]
  },
  {
   "cell_type": "code",
   "execution_count": 27,
   "id": "b8f022b3",
   "metadata": {
    "execution": {
     "iopub.execute_input": "2023-10-07T07:21:18.252322Z",
     "iopub.status.busy": "2023-10-07T07:21:18.251979Z",
     "iopub.status.idle": "2023-10-07T07:21:18.264278Z",
     "shell.execute_reply": "2023-10-07T07:21:18.263266Z"
    },
    "papermill": {
     "duration": 0.028952,
     "end_time": "2023-10-07T07:21:18.266294",
     "exception": false,
     "start_time": "2023-10-07T07:21:18.237342",
     "status": "completed"
    },
    "tags": []
   },
   "outputs": [
    {
     "data": {
      "text/html": [
       "<div>\n",
       "<style scoped>\n",
       "    .dataframe tbody tr th:only-of-type {\n",
       "        vertical-align: middle;\n",
       "    }\n",
       "\n",
       "    .dataframe tbody tr th {\n",
       "        vertical-align: top;\n",
       "    }\n",
       "\n",
       "    .dataframe thead th {\n",
       "        text-align: right;\n",
       "    }\n",
       "</style>\n",
       "<table border=\"1\" class=\"dataframe\">\n",
       "  <thead>\n",
       "    <tr style=\"text-align: right;\">\n",
       "      <th></th>\n",
       "      <th>id</th>\n",
       "      <th>name</th>\n",
       "      <th>category</th>\n",
       "      <th>description</th>\n",
       "      <th>city</th>\n",
       "      <th>city_category</th>\n",
       "    </tr>\n",
       "  </thead>\n",
       "  <tbody>\n",
       "    <tr>\n",
       "      <th>149</th>\n",
       "      <td>126</td>\n",
       "      <td>Pantai Goa Cemara</td>\n",
       "      <td>Bahari</td>\n",
       "      <td>Pantai Goa Cemara (bahasa Jawa: ꦥꦱꦶꦱꦶꦂ​ ꦒꦸꦮ​ ꦕ...</td>\n",
       "      <td>Yogyakarta</td>\n",
       "      <td>Yogyakarta Bahari</td>\n",
       "    </tr>\n",
       "    <tr>\n",
       "      <th>158</th>\n",
       "      <td>247</td>\n",
       "      <td>Kiara Artha Park</td>\n",
       "      <td>Taman Hiburan</td>\n",
       "      <td>Kiara Artha Park merupakan sebuah kawasan terp...</td>\n",
       "      <td>Bandung</td>\n",
       "      <td>Bandung Taman Hiburan</td>\n",
       "    </tr>\n",
       "    <tr>\n",
       "      <th>28</th>\n",
       "      <td>48</td>\n",
       "      <td>Taman Ismail Marzuki</td>\n",
       "      <td>Budaya</td>\n",
       "      <td>Pusat Kesenian Jakarta Taman Ismail Marzuki ya...</td>\n",
       "      <td>Jakarta</td>\n",
       "      <td>Jakarta Budaya</td>\n",
       "    </tr>\n",
       "    <tr>\n",
       "      <th>412</th>\n",
       "      <td>87</td>\n",
       "      <td>Sindu Kusuma Edupark (SKE)</td>\n",
       "      <td>Taman Hiburan</td>\n",
       "      <td>Sindu Kusuma Edupark (SKE) merupakan sebuah de...</td>\n",
       "      <td>Yogyakarta</td>\n",
       "      <td>Yogyakarta Taman Hiburan</td>\n",
       "    </tr>\n",
       "    <tr>\n",
       "      <th>29</th>\n",
       "      <td>147</td>\n",
       "      <td>Bentara Budaya Yogyakarta (BBY)</td>\n",
       "      <td>Budaya</td>\n",
       "      <td>Bentara Budaya Yogyakarta adalah pusat budaya ...</td>\n",
       "      <td>Yogyakarta</td>\n",
       "      <td>Yogyakarta Budaya</td>\n",
       "    </tr>\n",
       "  </tbody>\n",
       "</table>\n",
       "</div>"
      ],
      "text/plain": [
       "      id                             name       category  \\\n",
       "149  126                Pantai Goa Cemara         Bahari   \n",
       "158  247                 Kiara Artha Park  Taman Hiburan   \n",
       "28    48             Taman Ismail Marzuki         Budaya   \n",
       "412   87       Sindu Kusuma Edupark (SKE)  Taman Hiburan   \n",
       "29   147  Bentara Budaya Yogyakarta (BBY)         Budaya   \n",
       "\n",
       "                                           description        city  \\\n",
       "149  Pantai Goa Cemara (bahasa Jawa: ꦥꦱꦶꦱꦶꦂ​ ꦒꦸꦮ​ ꦕ...  Yogyakarta   \n",
       "158  Kiara Artha Park merupakan sebuah kawasan terp...     Bandung   \n",
       "28   Pusat Kesenian Jakarta Taman Ismail Marzuki ya...     Jakarta   \n",
       "412  Sindu Kusuma Edupark (SKE) merupakan sebuah de...  Yogyakarta   \n",
       "29   Bentara Budaya Yogyakarta adalah pusat budaya ...  Yogyakarta   \n",
       "\n",
       "                city_category  \n",
       "149         Yogyakarta Bahari  \n",
       "158     Bandung Taman Hiburan  \n",
       "28             Jakarta Budaya  \n",
       "412  Yogyakarta Taman Hiburan  \n",
       "29          Yogyakarta Budaya  "
      ]
     },
     "execution_count": 27,
     "metadata": {},
     "output_type": "execute_result"
    }
   ],
   "source": [
    "data = tourism_new\n",
    "data.sample(5)"
   ]
  },
  {
   "cell_type": "markdown",
   "id": "e23c85fd",
   "metadata": {
    "papermill": {
     "duration": 0.014679,
     "end_time": "2023-10-07T07:21:18.294352",
     "exception": false,
     "start_time": "2023-10-07T07:21:18.279673",
     "status": "completed"
    },
    "tags": []
   },
   "source": [
    "## TF-IDF Vectorizer"
   ]
  },
  {
   "cell_type": "code",
   "execution_count": 28,
   "id": "39a5f28d",
   "metadata": {
    "execution": {
     "iopub.execute_input": "2023-10-07T07:21:18.324398Z",
     "iopub.status.busy": "2023-10-07T07:21:18.323764Z",
     "iopub.status.idle": "2023-10-07T07:21:18.457714Z",
     "shell.execute_reply": "2023-10-07T07:21:18.456170Z"
    },
    "papermill": {
     "duration": 0.150667,
     "end_time": "2023-10-07T07:21:18.459850",
     "exception": false,
     "start_time": "2023-10-07T07:21:18.309183",
     "status": "completed"
    },
    "tags": []
   },
   "outputs": [
    {
     "name": "stdout",
     "output_type": "stream",
     "text": [
      "Features Name:  ['yogyakarta', 'budaya', 'semarang', 'bahari', 'jakarta', 'taman', 'hiburan', 'bandung', 'cagar', 'alam', 'surabaya', 'pusat', 'perbelanjaan', 'tempat', 'ibadah']\n"
     ]
    }
   ],
   "source": [
    "from sklearn.feature_extraction.text import CountVectorizer\n",
    "\n",
    "cv = CountVectorizer()\n",
    "\n",
    "cv.fit(data['city_category'])\n",
    "\n",
    "print(\"Features Name: \", list(cv.vocabulary_.keys()))"
   ]
  },
  {
   "cell_type": "code",
   "execution_count": 29,
   "id": "b61e75ad",
   "metadata": {
    "execution": {
     "iopub.execute_input": "2023-10-07T07:21:18.493110Z",
     "iopub.status.busy": "2023-10-07T07:21:18.492036Z",
     "iopub.status.idle": "2023-10-07T07:21:18.501515Z",
     "shell.execute_reply": "2023-10-07T07:21:18.500393Z"
    },
    "papermill": {
     "duration": 0.027871,
     "end_time": "2023-10-07T07:21:18.503566",
     "exception": false,
     "start_time": "2023-10-07T07:21:18.475695",
     "status": "completed"
    },
    "tags": []
   },
   "outputs": [
    {
     "data": {
      "text/plain": [
       "(437, 15)"
      ]
     },
     "execution_count": 29,
     "metadata": {},
     "output_type": "execute_result"
    }
   ],
   "source": [
    "cv_matrix = cv.transform(data['city_category']) \n",
    " \n",
    "cv_matrix.shape "
   ]
  },
  {
   "cell_type": "code",
   "execution_count": 30,
   "id": "b701eabb",
   "metadata": {
    "execution": {
     "iopub.execute_input": "2023-10-07T07:21:18.535048Z",
     "iopub.status.busy": "2023-10-07T07:21:18.534261Z",
     "iopub.status.idle": "2023-10-07T07:21:18.541059Z",
     "shell.execute_reply": "2023-10-07T07:21:18.540114Z"
    },
    "papermill": {
     "duration": 0.024756,
     "end_time": "2023-10-07T07:21:18.543015",
     "exception": false,
     "start_time": "2023-10-07T07:21:18.518259",
     "status": "completed"
    },
    "tags": []
   },
   "outputs": [
    {
     "data": {
      "text/plain": [
       "matrix([[0, 0, 0, ..., 0, 0, 1],\n",
       "        [0, 1, 0, ..., 0, 0, 0],\n",
       "        [0, 0, 0, ..., 1, 0, 0],\n",
       "        ...,\n",
       "        [0, 1, 0, ..., 0, 0, 0],\n",
       "        [1, 0, 0, ..., 0, 0, 0],\n",
       "        [0, 0, 0, ..., 1, 0, 1]])"
      ]
     },
     "execution_count": 30,
     "metadata": {},
     "output_type": "execute_result"
    }
   ],
   "source": [
    "cv_matrix.todense()"
   ]
  },
  {
   "cell_type": "code",
   "execution_count": 31,
   "id": "876269a0",
   "metadata": {
    "execution": {
     "iopub.execute_input": "2023-10-07T07:21:18.573847Z",
     "iopub.status.busy": "2023-10-07T07:21:18.573004Z",
     "iopub.status.idle": "2023-10-07T07:21:18.587206Z",
     "shell.execute_reply": "2023-10-07T07:21:18.586142Z"
    },
    "papermill": {
     "duration": 0.031486,
     "end_time": "2023-10-07T07:21:18.589035",
     "exception": false,
     "start_time": "2023-10-07T07:21:18.557549",
     "status": "completed"
    },
    "tags": []
   },
   "outputs": [
    {
     "data": {
      "text/html": [
       "<div>\n",
       "<style scoped>\n",
       "    .dataframe tbody tr th:only-of-type {\n",
       "        vertical-align: middle;\n",
       "    }\n",
       "\n",
       "    .dataframe tbody tr th {\n",
       "        vertical-align: top;\n",
       "    }\n",
       "\n",
       "    .dataframe thead th {\n",
       "        text-align: right;\n",
       "    }\n",
       "</style>\n",
       "<table border=\"1\" class=\"dataframe\">\n",
       "  <thead>\n",
       "    <tr style=\"text-align: right;\">\n",
       "      <th></th>\n",
       "      <th>yogyakarta</th>\n",
       "      <th>budaya</th>\n",
       "      <th>semarang</th>\n",
       "      <th>bahari</th>\n",
       "      <th>jakarta</th>\n",
       "      <th>taman</th>\n",
       "      <th>hiburan</th>\n",
       "      <th>bandung</th>\n",
       "      <th>cagar</th>\n",
       "      <th>alam</th>\n",
       "      <th>surabaya</th>\n",
       "      <th>pusat</th>\n",
       "      <th>perbelanjaan</th>\n",
       "      <th>tempat</th>\n",
       "      <th>ibadah</th>\n",
       "    </tr>\n",
       "    <tr>\n",
       "      <th>name</th>\n",
       "      <th></th>\n",
       "      <th></th>\n",
       "      <th></th>\n",
       "      <th></th>\n",
       "      <th></th>\n",
       "      <th></th>\n",
       "      <th></th>\n",
       "      <th></th>\n",
       "      <th></th>\n",
       "      <th></th>\n",
       "      <th></th>\n",
       "      <th></th>\n",
       "      <th></th>\n",
       "      <th></th>\n",
       "      <th></th>\n",
       "    </tr>\n",
       "  </thead>\n",
       "  <tbody>\n",
       "    <tr>\n",
       "      <th>Bandros City Tour</th>\n",
       "      <td>0</td>\n",
       "      <td>0</td>\n",
       "      <td>1</td>\n",
       "      <td>1</td>\n",
       "      <td>0</td>\n",
       "      <td>0</td>\n",
       "      <td>0</td>\n",
       "      <td>0</td>\n",
       "      <td>0</td>\n",
       "      <td>0</td>\n",
       "      <td>0</td>\n",
       "      <td>0</td>\n",
       "      <td>0</td>\n",
       "      <td>0</td>\n",
       "      <td>0</td>\n",
       "    </tr>\n",
       "    <tr>\n",
       "      <th>Pantai Ria Kenjeran</th>\n",
       "      <td>0</td>\n",
       "      <td>1</td>\n",
       "      <td>0</td>\n",
       "      <td>0</td>\n",
       "      <td>0</td>\n",
       "      <td>0</td>\n",
       "      <td>0</td>\n",
       "      <td>0</td>\n",
       "      <td>0</td>\n",
       "      <td>0</td>\n",
       "      <td>0</td>\n",
       "      <td>1</td>\n",
       "      <td>0</td>\n",
       "      <td>0</td>\n",
       "      <td>0</td>\n",
       "    </tr>\n",
       "    <tr>\n",
       "      <th>Pantai Baruna</th>\n",
       "      <td>0</td>\n",
       "      <td>1</td>\n",
       "      <td>0</td>\n",
       "      <td>0</td>\n",
       "      <td>0</td>\n",
       "      <td>0</td>\n",
       "      <td>0</td>\n",
       "      <td>0</td>\n",
       "      <td>0</td>\n",
       "      <td>0</td>\n",
       "      <td>1</td>\n",
       "      <td>0</td>\n",
       "      <td>0</td>\n",
       "      <td>0</td>\n",
       "      <td>0</td>\n",
       "    </tr>\n",
       "    <tr>\n",
       "      <th>Museum Barli</th>\n",
       "      <td>0</td>\n",
       "      <td>0</td>\n",
       "      <td>1</td>\n",
       "      <td>1</td>\n",
       "      <td>0</td>\n",
       "      <td>0</td>\n",
       "      <td>0</td>\n",
       "      <td>0</td>\n",
       "      <td>0</td>\n",
       "      <td>0</td>\n",
       "      <td>0</td>\n",
       "      <td>0</td>\n",
       "      <td>0</td>\n",
       "      <td>0</td>\n",
       "      <td>0</td>\n",
       "    </tr>\n",
       "    <tr>\n",
       "      <th>Museum Satria Mandala</th>\n",
       "      <td>0</td>\n",
       "      <td>0</td>\n",
       "      <td>0</td>\n",
       "      <td>1</td>\n",
       "      <td>0</td>\n",
       "      <td>0</td>\n",
       "      <td>0</td>\n",
       "      <td>1</td>\n",
       "      <td>0</td>\n",
       "      <td>0</td>\n",
       "      <td>0</td>\n",
       "      <td>0</td>\n",
       "      <td>0</td>\n",
       "      <td>0</td>\n",
       "      <td>0</td>\n",
       "    </tr>\n",
       "  </tbody>\n",
       "</table>\n",
       "</div>"
      ],
      "text/plain": [
       "                       yogyakarta  budaya  semarang  bahari  jakarta  taman  \\\n",
       "name                                                                          \n",
       "Bandros City Tour               0       0         1       1        0      0   \n",
       "Pantai Ria Kenjeran             0       1         0       0        0      0   \n",
       "Pantai Baruna                   0       1         0       0        0      0   \n",
       "Museum Barli                    0       0         1       1        0      0   \n",
       "Museum Satria Mandala           0       0         0       1        0      0   \n",
       "\n",
       "                       hiburan  bandung  cagar  alam  surabaya  pusat  \\\n",
       "name                                                                    \n",
       "Bandros City Tour            0        0      0     0         0      0   \n",
       "Pantai Ria Kenjeran          0        0      0     0         0      1   \n",
       "Pantai Baruna                0        0      0     0         1      0   \n",
       "Museum Barli                 0        0      0     0         0      0   \n",
       "Museum Satria Mandala        0        1      0     0         0      0   \n",
       "\n",
       "                       perbelanjaan  tempat  ibadah  \n",
       "name                                                 \n",
       "Bandros City Tour                 0       0       0  \n",
       "Pantai Ria Kenjeran               0       0       0  \n",
       "Pantai Baruna                     0       0       0  \n",
       "Museum Barli                      0       0       0  \n",
       "Museum Satria Mandala             0       0       0  "
      ]
     },
     "execution_count": 31,
     "metadata": {},
     "output_type": "execute_result"
    }
   ],
   "source": [
    "pd.DataFrame(\n",
    "    cv_matrix.todense(),\n",
    "    columns=list(cv.vocabulary_.keys()),\n",
    "    index = data.name\n",
    ").sample(5)"
   ]
  },
  {
   "cell_type": "markdown",
   "id": "08c5890b",
   "metadata": {
    "papermill": {
     "duration": 0.013968,
     "end_time": "2023-10-07T07:21:18.617979",
     "exception": false,
     "start_time": "2023-10-07T07:21:18.604011",
     "status": "completed"
    },
    "tags": []
   },
   "source": [
    "## Cosine Similarity"
   ]
  },
  {
   "cell_type": "code",
   "execution_count": 32,
   "id": "12624147",
   "metadata": {
    "execution": {
     "iopub.execute_input": "2023-10-07T07:21:18.648801Z",
     "iopub.status.busy": "2023-10-07T07:21:18.648127Z",
     "iopub.status.idle": "2023-10-07T07:21:18.691460Z",
     "shell.execute_reply": "2023-10-07T07:21:18.690362Z"
    },
    "papermill": {
     "duration": 0.061546,
     "end_time": "2023-10-07T07:21:18.693803",
     "exception": false,
     "start_time": "2023-10-07T07:21:18.632257",
     "status": "completed"
    },
    "tags": []
   },
   "outputs": [
    {
     "data": {
      "text/plain": [
       "array([[1.        , 0.        , 0.        , ..., 0.        , 0.        ,\n",
       "        0.40824829],\n",
       "       [0.        , 1.        , 0.        , ..., 0.5       , 0.        ,\n",
       "        0.        ],\n",
       "       [0.        , 0.        , 1.        , ..., 0.40824829, 0.33333333,\n",
       "        0.66666667],\n",
       "       ...,\n",
       "       [0.        , 0.5       , 0.40824829, ..., 1.        , 0.40824829,\n",
       "        0.        ],\n",
       "       [0.        , 0.        , 0.33333333, ..., 0.40824829, 1.        ,\n",
       "        0.        ],\n",
       "       [0.40824829, 0.        , 0.66666667, ..., 0.        , 0.        ,\n",
       "        1.        ]])"
      ]
     },
     "execution_count": 32,
     "metadata": {},
     "output_type": "execute_result"
    }
   ],
   "source": [
    "from sklearn.metrics.pairwise import cosine_similarity\n",
    "\n",
    "cosine_sim = cosine_similarity(cv_matrix)\n",
    "cosine_sim"
   ]
  },
  {
   "cell_type": "code",
   "execution_count": 33,
   "id": "524f97d4",
   "metadata": {
    "execution": {
     "iopub.execute_input": "2023-10-07T07:21:18.724221Z",
     "iopub.status.busy": "2023-10-07T07:21:18.723894Z",
     "iopub.status.idle": "2023-10-07T07:21:18.738547Z",
     "shell.execute_reply": "2023-10-07T07:21:18.737643Z"
    },
    "papermill": {
     "duration": 0.031664,
     "end_time": "2023-10-07T07:21:18.740446",
     "exception": false,
     "start_time": "2023-10-07T07:21:18.708782",
     "status": "completed"
    },
    "tags": []
   },
   "outputs": [
    {
     "data": {
      "text/html": [
       "<div>\n",
       "<style scoped>\n",
       "    .dataframe tbody tr th:only-of-type {\n",
       "        vertical-align: middle;\n",
       "    }\n",
       "\n",
       "    .dataframe tbody tr th {\n",
       "        vertical-align: top;\n",
       "    }\n",
       "\n",
       "    .dataframe thead th {\n",
       "        text-align: right;\n",
       "    }\n",
       "</style>\n",
       "<table border=\"1\" class=\"dataframe\">\n",
       "  <thead>\n",
       "    <tr style=\"text-align: right;\">\n",
       "      <th>name</th>\n",
       "      <th>Lawang Sewu</th>\n",
       "      <th>Gedung Sate</th>\n",
       "      <th>Hutan Bambu Keputih</th>\n",
       "      <th>Pantai Jogan</th>\n",
       "      <th>Gereja Katedral</th>\n",
       "    </tr>\n",
       "    <tr>\n",
       "      <th>name</th>\n",
       "      <th></th>\n",
       "      <th></th>\n",
       "      <th></th>\n",
       "      <th></th>\n",
       "      <th></th>\n",
       "    </tr>\n",
       "  </thead>\n",
       "  <tbody>\n",
       "    <tr>\n",
       "      <th>The Lodge Maribaya</th>\n",
       "      <td>0.000000</td>\n",
       "      <td>0.408248</td>\n",
       "      <td>0.666667</td>\n",
       "      <td>0.000000</td>\n",
       "      <td>0.0</td>\n",
       "    </tr>\n",
       "    <tr>\n",
       "      <th>Situs Warungboto</th>\n",
       "      <td>0.000000</td>\n",
       "      <td>0.000000</td>\n",
       "      <td>0.000000</td>\n",
       "      <td>0.408248</td>\n",
       "      <td>0.0</td>\n",
       "    </tr>\n",
       "    <tr>\n",
       "      <th>Taman Pandanaran</th>\n",
       "      <td>0.408248</td>\n",
       "      <td>0.000000</td>\n",
       "      <td>0.000000</td>\n",
       "      <td>0.000000</td>\n",
       "      <td>0.0</td>\n",
       "    </tr>\n",
       "    <tr>\n",
       "      <th>Jembatan Merah</th>\n",
       "      <td>0.500000</td>\n",
       "      <td>0.500000</td>\n",
       "      <td>0.408248</td>\n",
       "      <td>0.000000</td>\n",
       "      <td>0.0</td>\n",
       "    </tr>\n",
       "    <tr>\n",
       "      <th>Kampoeng Rawa</th>\n",
       "      <td>0.408248</td>\n",
       "      <td>0.000000</td>\n",
       "      <td>0.666667</td>\n",
       "      <td>0.000000</td>\n",
       "      <td>0.0</td>\n",
       "    </tr>\n",
       "    <tr>\n",
       "      <th>Museum Pos Indonesia</th>\n",
       "      <td>0.500000</td>\n",
       "      <td>1.000000</td>\n",
       "      <td>0.000000</td>\n",
       "      <td>0.000000</td>\n",
       "      <td>0.0</td>\n",
       "    </tr>\n",
       "    <tr>\n",
       "      <th>Gua Maria Kerep Ambarawa</th>\n",
       "      <td>0.408248</td>\n",
       "      <td>0.000000</td>\n",
       "      <td>0.666667</td>\n",
       "      <td>0.000000</td>\n",
       "      <td>0.0</td>\n",
       "    </tr>\n",
       "    <tr>\n",
       "      <th>Desa Wisata Rumah Domes/Teletubbies</th>\n",
       "      <td>0.000000</td>\n",
       "      <td>0.000000</td>\n",
       "      <td>0.000000</td>\n",
       "      <td>0.408248</td>\n",
       "      <td>0.0</td>\n",
       "    </tr>\n",
       "    <tr>\n",
       "      <th>Museum Sonobudoyo Unit I</th>\n",
       "      <td>0.500000</td>\n",
       "      <td>0.500000</td>\n",
       "      <td>0.000000</td>\n",
       "      <td>0.500000</td>\n",
       "      <td>0.0</td>\n",
       "    </tr>\n",
       "    <tr>\n",
       "      <th>Pantai Marina</th>\n",
       "      <td>0.500000</td>\n",
       "      <td>0.000000</td>\n",
       "      <td>0.000000</td>\n",
       "      <td>0.500000</td>\n",
       "      <td>0.0</td>\n",
       "    </tr>\n",
       "  </tbody>\n",
       "</table>\n",
       "</div>"
      ],
      "text/plain": [
       "name                                 Lawang Sewu  Gedung Sate  \\\n",
       "name                                                            \n",
       "The Lodge Maribaya                      0.000000     0.408248   \n",
       "Situs Warungboto                        0.000000     0.000000   \n",
       "Taman Pandanaran                        0.408248     0.000000   \n",
       "Jembatan Merah                          0.500000     0.500000   \n",
       "Kampoeng Rawa                           0.408248     0.000000   \n",
       "Museum Pos Indonesia                    0.500000     1.000000   \n",
       "Gua Maria Kerep Ambarawa                0.408248     0.000000   \n",
       "Desa Wisata Rumah Domes/Teletubbies     0.000000     0.000000   \n",
       "Museum Sonobudoyo Unit I                0.500000     0.500000   \n",
       "Pantai Marina                           0.500000     0.000000   \n",
       "\n",
       "name                                 Hutan Bambu Keputih  Pantai Jogan  \\\n",
       "name                                                                     \n",
       "The Lodge Maribaya                              0.666667      0.000000   \n",
       "Situs Warungboto                                0.000000      0.408248   \n",
       "Taman Pandanaran                                0.000000      0.000000   \n",
       "Jembatan Merah                                  0.408248      0.000000   \n",
       "Kampoeng Rawa                                   0.666667      0.000000   \n",
       "Museum Pos Indonesia                            0.000000      0.000000   \n",
       "Gua Maria Kerep Ambarawa                        0.666667      0.000000   \n",
       "Desa Wisata Rumah Domes/Teletubbies             0.000000      0.408248   \n",
       "Museum Sonobudoyo Unit I                        0.000000      0.500000   \n",
       "Pantai Marina                                   0.000000      0.500000   \n",
       "\n",
       "name                                 Gereja Katedral  \n",
       "name                                                  \n",
       "The Lodge Maribaya                               0.0  \n",
       "Situs Warungboto                                 0.0  \n",
       "Taman Pandanaran                                 0.0  \n",
       "Jembatan Merah                                   0.0  \n",
       "Kampoeng Rawa                                    0.0  \n",
       "Museum Pos Indonesia                             0.0  \n",
       "Gua Maria Kerep Ambarawa                         0.0  \n",
       "Desa Wisata Rumah Domes/Teletubbies              0.0  \n",
       "Museum Sonobudoyo Unit I                         0.0  \n",
       "Pantai Marina                                    0.0  "
      ]
     },
     "execution_count": 33,
     "metadata": {},
     "output_type": "execute_result"
    }
   ],
   "source": [
    "cosine_sim_df = pd.DataFrame(cosine_sim,index=data['name'],columns=data['name'])\n",
    "cosine_sim_df.sample(5,axis=1).sample(10,axis=0)"
   ]
  },
  {
   "cell_type": "markdown",
   "id": "1a27a135",
   "metadata": {
    "papermill": {
     "duration": 0.014552,
     "end_time": "2023-10-07T07:21:18.770518",
     "exception": false,
     "start_time": "2023-10-07T07:21:18.755966",
     "status": "completed"
    },
    "tags": []
   },
   "source": [
    "## Recommendation"
   ]
  },
  {
   "cell_type": "code",
   "execution_count": 34,
   "id": "934d85f8",
   "metadata": {
    "execution": {
     "iopub.execute_input": "2023-10-07T07:21:18.801314Z",
     "iopub.status.busy": "2023-10-07T07:21:18.800948Z",
     "iopub.status.idle": "2023-10-07T07:21:18.807831Z",
     "shell.execute_reply": "2023-10-07T07:21:18.806824Z"
    },
    "papermill": {
     "duration": 0.024921,
     "end_time": "2023-10-07T07:21:18.809898",
     "exception": false,
     "start_time": "2023-10-07T07:21:18.784977",
     "status": "completed"
    },
    "tags": []
   },
   "outputs": [],
   "source": [
    "def tourism_recommendations(place_name,similarity_data=cosine_sim_df,items=data[['name','category','description','city']],k=5):\n",
    "    index = similarity_data.loc[:,place_name].to_numpy().argpartition(range(-1,-k,-1))\n",
    "    \n",
    "    closest = similarity_data.columns[index[-1:-(k+2):-1]]\n",
    "    \n",
    "    closest = closest.drop(place_name,errors='ignore')\n",
    "    \n",
    "    return pd.DataFrame(closest).merge(items).head(k)"
   ]
  },
  {
   "cell_type": "code",
   "execution_count": 35,
   "id": "f4d34964",
   "metadata": {
    "execution": {
     "iopub.execute_input": "2023-10-07T07:21:18.841243Z",
     "iopub.status.busy": "2023-10-07T07:21:18.839596Z",
     "iopub.status.idle": "2023-10-07T07:21:18.854907Z",
     "shell.execute_reply": "2023-10-07T07:21:18.853934Z"
    },
    "papermill": {
     "duration": 0.032478,
     "end_time": "2023-10-07T07:21:18.856768",
     "exception": false,
     "start_time": "2023-10-07T07:21:18.824290",
     "status": "completed"
    },
    "tags": []
   },
   "outputs": [
    {
     "data": {
      "text/html": [
       "<div>\n",
       "<style scoped>\n",
       "    .dataframe tbody tr th:only-of-type {\n",
       "        vertical-align: middle;\n",
       "    }\n",
       "\n",
       "    .dataframe tbody tr th {\n",
       "        vertical-align: top;\n",
       "    }\n",
       "\n",
       "    .dataframe thead th {\n",
       "        text-align: right;\n",
       "    }\n",
       "</style>\n",
       "<table border=\"1\" class=\"dataframe\">\n",
       "  <thead>\n",
       "    <tr style=\"text-align: right;\">\n",
       "      <th></th>\n",
       "      <th>name</th>\n",
       "      <th>category</th>\n",
       "      <th>description</th>\n",
       "      <th>city</th>\n",
       "    </tr>\n",
       "  </thead>\n",
       "  <tbody>\n",
       "    <tr>\n",
       "      <th>0</th>\n",
       "      <td>Taman Prestasi</td>\n",
       "      <td>Taman Hiburan</td>\n",
       "      <td>Taman Prestasi Surabaya merupakan salah satu t...</td>\n",
       "      <td>Surabaya</td>\n",
       "    </tr>\n",
       "    <tr>\n",
       "      <th>1</th>\n",
       "      <td>Taman Pelangi</td>\n",
       "      <td>Taman Hiburan</td>\n",
       "      <td>Kalau pelangi biasanya ada di siang hari pasca...</td>\n",
       "      <td>Surabaya</td>\n",
       "    </tr>\n",
       "    <tr>\n",
       "      <th>2</th>\n",
       "      <td>Atlantis Land Surabaya</td>\n",
       "      <td>Taman Hiburan</td>\n",
       "      <td>Sejak diresmikan pada bulan Desember 2017, Atl...</td>\n",
       "      <td>Surabaya</td>\n",
       "    </tr>\n",
       "    <tr>\n",
       "      <th>3</th>\n",
       "      <td>Taman Buah Surabaya</td>\n",
       "      <td>Taman Hiburan</td>\n",
       "      <td>Wisata Taman Buah Undaan di Surabaya adalah sa...</td>\n",
       "      <td>Surabaya</td>\n",
       "    </tr>\n",
       "    <tr>\n",
       "      <th>4</th>\n",
       "      <td>Taman Keputran</td>\n",
       "      <td>Taman Hiburan</td>\n",
       "      <td>Ntah, mengapa nama taman ini disebut dengan ta...</td>\n",
       "      <td>Surabaya</td>\n",
       "    </tr>\n",
       "  </tbody>\n",
       "</table>\n",
       "</div>"
      ],
      "text/plain": [
       "                     name       category  \\\n",
       "0          Taman Prestasi  Taman Hiburan   \n",
       "1           Taman Pelangi  Taman Hiburan   \n",
       "2  Atlantis Land Surabaya  Taman Hiburan   \n",
       "3     Taman Buah Surabaya  Taman Hiburan   \n",
       "4          Taman Keputran  Taman Hiburan   \n",
       "\n",
       "                                         description      city  \n",
       "0  Taman Prestasi Surabaya merupakan salah satu t...  Surabaya  \n",
       "1  Kalau pelangi biasanya ada di siang hari pasca...  Surabaya  \n",
       "2  Sejak diresmikan pada bulan Desember 2017, Atl...  Surabaya  \n",
       "3  Wisata Taman Buah Undaan di Surabaya adalah sa...  Surabaya  \n",
       "4  Ntah, mengapa nama taman ini disebut dengan ta...  Surabaya  "
      ]
     },
     "execution_count": 35,
     "metadata": {},
     "output_type": "execute_result"
    }
   ],
   "source": [
    "tourism_recommendations(\"Air Mancur Menari\")"
   ]
  },
  {
   "cell_type": "code",
   "execution_count": 36,
   "id": "ed532ebc",
   "metadata": {
    "execution": {
     "iopub.execute_input": "2023-10-07T07:21:18.887173Z",
     "iopub.status.busy": "2023-10-07T07:21:18.886843Z",
     "iopub.status.idle": "2023-10-07T07:21:18.899666Z",
     "shell.execute_reply": "2023-10-07T07:21:18.898678Z"
    },
    "papermill": {
     "duration": 0.030052,
     "end_time": "2023-10-07T07:21:18.901511",
     "exception": false,
     "start_time": "2023-10-07T07:21:18.871459",
     "status": "completed"
    },
    "tags": []
   },
   "outputs": [
    {
     "data": {
      "text/html": [
       "<div>\n",
       "<style scoped>\n",
       "    .dataframe tbody tr th:only-of-type {\n",
       "        vertical-align: middle;\n",
       "    }\n",
       "\n",
       "    .dataframe tbody tr th {\n",
       "        vertical-align: top;\n",
       "    }\n",
       "\n",
       "    .dataframe thead th {\n",
       "        text-align: right;\n",
       "    }\n",
       "</style>\n",
       "<table border=\"1\" class=\"dataframe\">\n",
       "  <thead>\n",
       "    <tr style=\"text-align: right;\">\n",
       "      <th></th>\n",
       "      <th>name</th>\n",
       "      <th>category</th>\n",
       "      <th>description</th>\n",
       "      <th>city</th>\n",
       "    </tr>\n",
       "  </thead>\n",
       "  <tbody>\n",
       "    <tr>\n",
       "      <th>0</th>\n",
       "      <td>Puspa Iptek Sundial</td>\n",
       "      <td>Taman Hiburan</td>\n",
       "      <td>Puspa Iptek Sundial adalah wahana pendidikan y...</td>\n",
       "      <td>Bandung</td>\n",
       "    </tr>\n",
       "    <tr>\n",
       "      <th>1</th>\n",
       "      <td>Teras Cikapundung BBWS</td>\n",
       "      <td>Taman Hiburan</td>\n",
       "      <td>Teras Cikapundung Bandung sebelumnya merupakan...</td>\n",
       "      <td>Bandung</td>\n",
       "    </tr>\n",
       "    <tr>\n",
       "      <th>2</th>\n",
       "      <td>Chingu Cafe Little Seoul</td>\n",
       "      <td>Taman Hiburan</td>\n",
       "      <td>Selain populer karena memiliki pemandangan yan...</td>\n",
       "      <td>Bandung</td>\n",
       "    </tr>\n",
       "    <tr>\n",
       "      <th>3</th>\n",
       "      <td>Taman Badak</td>\n",
       "      <td>Taman Hiburan</td>\n",
       "      <td>Taman Badak ini baru saja diresmikan pada tang...</td>\n",
       "      <td>Bandung</td>\n",
       "    </tr>\n",
       "    <tr>\n",
       "      <th>4</th>\n",
       "      <td>NuArt Sculpture Park</td>\n",
       "      <td>Taman Hiburan</td>\n",
       "      <td>NuArt Sculpture Park ini merupakan sebuah gall...</td>\n",
       "      <td>Bandung</td>\n",
       "    </tr>\n",
       "  </tbody>\n",
       "</table>\n",
       "</div>"
      ],
      "text/plain": [
       "                       name       category  \\\n",
       "0       Puspa Iptek Sundial  Taman Hiburan   \n",
       "1    Teras Cikapundung BBWS  Taman Hiburan   \n",
       "2  Chingu Cafe Little Seoul  Taman Hiburan   \n",
       "3               Taman Badak  Taman Hiburan   \n",
       "4      NuArt Sculpture Park  Taman Hiburan   \n",
       "\n",
       "                                         description     city  \n",
       "0  Puspa Iptek Sundial adalah wahana pendidikan y...  Bandung  \n",
       "1  Teras Cikapundung Bandung sebelumnya merupakan...  Bandung  \n",
       "2  Selain populer karena memiliki pemandangan yan...  Bandung  \n",
       "3  Taman Badak ini baru saja diresmikan pada tang...  Bandung  \n",
       "4  NuArt Sculpture Park ini merupakan sebuah gall...  Bandung  "
      ]
     },
     "execution_count": 36,
     "metadata": {},
     "output_type": "execute_result"
    }
   ],
   "source": [
    "tourism_recommendations(\"Trans Studio Bandung\")"
   ]
  },
  {
   "cell_type": "markdown",
   "id": "2b81b483",
   "metadata": {
    "papermill": {
     "duration": 0.014181,
     "end_time": "2023-10-07T07:21:18.929972",
     "exception": false,
     "start_time": "2023-10-07T07:21:18.915791",
     "status": "completed"
    },
    "tags": []
   },
   "source": [
    "# Collaborative Filtering"
   ]
  },
  {
   "cell_type": "code",
   "execution_count": 37,
   "id": "6740cdc3",
   "metadata": {
    "execution": {
     "iopub.execute_input": "2023-10-07T07:21:18.959964Z",
     "iopub.status.busy": "2023-10-07T07:21:18.959616Z",
     "iopub.status.idle": "2023-10-07T07:21:24.073922Z",
     "shell.execute_reply": "2023-10-07T07:21:24.072920Z"
    },
    "papermill": {
     "duration": 5.132164,
     "end_time": "2023-10-07T07:21:24.076371",
     "exception": false,
     "start_time": "2023-10-07T07:21:18.944207",
     "status": "completed"
    },
    "tags": []
   },
   "outputs": [],
   "source": [
    "import pandas as pd\n",
    "import numpy as np \n",
    "from zipfile import ZipFile\n",
    "import tensorflow as tf\n",
    "from tensorflow import keras\n",
    "from tensorflow.keras import layers\n",
    "from pathlib import Path\n",
    "import matplotlib.pyplot as plt"
   ]
  },
  {
   "cell_type": "code",
   "execution_count": 38,
   "id": "8b6d4d54",
   "metadata": {
    "execution": {
     "iopub.execute_input": "2023-10-07T07:21:24.109018Z",
     "iopub.status.busy": "2023-10-07T07:21:24.107729Z",
     "iopub.status.idle": "2023-10-07T07:21:24.119569Z",
     "shell.execute_reply": "2023-10-07T07:21:24.118585Z"
    },
    "papermill": {
     "duration": 0.029554,
     "end_time": "2023-10-07T07:21:24.121533",
     "exception": false,
     "start_time": "2023-10-07T07:21:24.091979",
     "status": "completed"
    },
    "tags": []
   },
   "outputs": [
    {
     "data": {
      "text/html": [
       "<div>\n",
       "<style scoped>\n",
       "    .dataframe tbody tr th:only-of-type {\n",
       "        vertical-align: middle;\n",
       "    }\n",
       "\n",
       "    .dataframe tbody tr th {\n",
       "        vertical-align: top;\n",
       "    }\n",
       "\n",
       "    .dataframe thead th {\n",
       "        text-align: right;\n",
       "    }\n",
       "</style>\n",
       "<table border=\"1\" class=\"dataframe\">\n",
       "  <thead>\n",
       "    <tr style=\"text-align: right;\">\n",
       "      <th></th>\n",
       "      <th>User_Id</th>\n",
       "      <th>Place_Id</th>\n",
       "      <th>Place_Ratings</th>\n",
       "    </tr>\n",
       "  </thead>\n",
       "  <tbody>\n",
       "    <tr>\n",
       "      <th>0</th>\n",
       "      <td>1</td>\n",
       "      <td>179</td>\n",
       "      <td>3</td>\n",
       "    </tr>\n",
       "    <tr>\n",
       "      <th>1</th>\n",
       "      <td>1</td>\n",
       "      <td>344</td>\n",
       "      <td>2</td>\n",
       "    </tr>\n",
       "    <tr>\n",
       "      <th>2</th>\n",
       "      <td>1</td>\n",
       "      <td>5</td>\n",
       "      <td>5</td>\n",
       "    </tr>\n",
       "    <tr>\n",
       "      <th>3</th>\n",
       "      <td>1</td>\n",
       "      <td>373</td>\n",
       "      <td>3</td>\n",
       "    </tr>\n",
       "    <tr>\n",
       "      <th>4</th>\n",
       "      <td>1</td>\n",
       "      <td>101</td>\n",
       "      <td>4</td>\n",
       "    </tr>\n",
       "    <tr>\n",
       "      <th>...</th>\n",
       "      <td>...</td>\n",
       "      <td>...</td>\n",
       "      <td>...</td>\n",
       "    </tr>\n",
       "    <tr>\n",
       "      <th>9995</th>\n",
       "      <td>300</td>\n",
       "      <td>425</td>\n",
       "      <td>2</td>\n",
       "    </tr>\n",
       "    <tr>\n",
       "      <th>9996</th>\n",
       "      <td>300</td>\n",
       "      <td>64</td>\n",
       "      <td>4</td>\n",
       "    </tr>\n",
       "    <tr>\n",
       "      <th>9997</th>\n",
       "      <td>300</td>\n",
       "      <td>311</td>\n",
       "      <td>3</td>\n",
       "    </tr>\n",
       "    <tr>\n",
       "      <th>9998</th>\n",
       "      <td>300</td>\n",
       "      <td>279</td>\n",
       "      <td>4</td>\n",
       "    </tr>\n",
       "    <tr>\n",
       "      <th>9999</th>\n",
       "      <td>300</td>\n",
       "      <td>163</td>\n",
       "      <td>2</td>\n",
       "    </tr>\n",
       "  </tbody>\n",
       "</table>\n",
       "<p>10000 rows × 3 columns</p>\n",
       "</div>"
      ],
      "text/plain": [
       "      User_Id  Place_Id  Place_Ratings\n",
       "0           1       179              3\n",
       "1           1       344              2\n",
       "2           1         5              5\n",
       "3           1       373              3\n",
       "4           1       101              4\n",
       "...       ...       ...            ...\n",
       "9995      300       425              2\n",
       "9996      300        64              4\n",
       "9997      300       311              3\n",
       "9998      300       279              4\n",
       "9999      300       163              2\n",
       "\n",
       "[10000 rows x 3 columns]"
      ]
     },
     "execution_count": 38,
     "metadata": {},
     "output_type": "execute_result"
    }
   ],
   "source": [
    "df = tourism_rating\n",
    "df"
   ]
  },
  {
   "cell_type": "markdown",
   "id": "f0effd01",
   "metadata": {
    "papermill": {
     "duration": 0.014972,
     "end_time": "2023-10-07T07:21:24.151240",
     "exception": false,
     "start_time": "2023-10-07T07:21:24.136268",
     "status": "completed"
    },
    "tags": []
   },
   "source": [
    "## Data Preparation"
   ]
  },
  {
   "cell_type": "markdown",
   "id": "c66350ce",
   "metadata": {
    "papermill": {
     "duration": 0.01427,
     "end_time": "2023-10-07T07:21:24.180848",
     "exception": false,
     "start_time": "2023-10-07T07:21:24.166578",
     "status": "completed"
    },
    "tags": []
   },
   "source": [
    "### Encode"
   ]
  },
  {
   "cell_type": "code",
   "execution_count": 39,
   "id": "9f513efd",
   "metadata": {
    "execution": {
     "iopub.execute_input": "2023-10-07T07:21:24.211683Z",
     "iopub.status.busy": "2023-10-07T07:21:24.210965Z",
     "iopub.status.idle": "2023-10-07T07:21:24.217300Z",
     "shell.execute_reply": "2023-10-07T07:21:24.216436Z"
    },
    "papermill": {
     "duration": 0.023916,
     "end_time": "2023-10-07T07:21:24.219238",
     "exception": false,
     "start_time": "2023-10-07T07:21:24.195322",
     "status": "completed"
    },
    "tags": []
   },
   "outputs": [],
   "source": [
    "user_ids = df.User_Id.unique().tolist()\n",
    "\n",
    "user_to_user_encoded = {x:i for i, x in enumerate(user_ids)}\n",
    "\n",
    "user_encoded_to_user = {i: x for i, x in enumerate(user_ids)}"
   ]
  },
  {
   "cell_type": "code",
   "execution_count": 40,
   "id": "ce1628af",
   "metadata": {
    "execution": {
     "iopub.execute_input": "2023-10-07T07:21:24.250931Z",
     "iopub.status.busy": "2023-10-07T07:21:24.250239Z",
     "iopub.status.idle": "2023-10-07T07:21:24.256413Z",
     "shell.execute_reply": "2023-10-07T07:21:24.255576Z"
    },
    "papermill": {
     "duration": 0.024658,
     "end_time": "2023-10-07T07:21:24.258536",
     "exception": false,
     "start_time": "2023-10-07T07:21:24.233878",
     "status": "completed"
    },
    "tags": []
   },
   "outputs": [],
   "source": [
    "place_ids = df.Place_Id.unique().tolist()\n",
    "\n",
    "place_to_place_encoded = {x: i for i, x in enumerate(place_ids)}\n",
    "\n",
    "place_encoded_to_place = {x: i for x, i in enumerate(place_ids)}"
   ]
  },
  {
   "cell_type": "code",
   "execution_count": 41,
   "id": "704efa7e",
   "metadata": {
    "execution": {
     "iopub.execute_input": "2023-10-07T07:21:24.290637Z",
     "iopub.status.busy": "2023-10-07T07:21:24.290332Z",
     "iopub.status.idle": "2023-10-07T07:21:24.298339Z",
     "shell.execute_reply": "2023-10-07T07:21:24.297495Z"
    },
    "papermill": {
     "duration": 0.026438,
     "end_time": "2023-10-07T07:21:24.300160",
     "exception": false,
     "start_time": "2023-10-07T07:21:24.273722",
     "status": "completed"
    },
    "tags": []
   },
   "outputs": [],
   "source": [
    "df['user'] = df.User_Id.map(user_to_user_encoded)\n",
    "\n",
    "df['place'] = df.Place_Id.map(place_to_place_encoded)"
   ]
  },
  {
   "cell_type": "code",
   "execution_count": 42,
   "id": "d0b4e564",
   "metadata": {
    "execution": {
     "iopub.execute_input": "2023-10-07T07:21:24.331025Z",
     "iopub.status.busy": "2023-10-07T07:21:24.330178Z",
     "iopub.status.idle": "2023-10-07T07:21:24.339560Z",
     "shell.execute_reply": "2023-10-07T07:21:24.338360Z"
    },
    "papermill": {
     "duration": 0.026845,
     "end_time": "2023-10-07T07:21:24.341402",
     "exception": false,
     "start_time": "2023-10-07T07:21:24.314557",
     "status": "completed"
    },
    "tags": []
   },
   "outputs": [
    {
     "name": "stdout",
     "output_type": "stream",
     "text": [
      "Number of User: 300, Number of Place: 437, Min Rating: 1.0, Max Rating: 5.0\n"
     ]
    }
   ],
   "source": [
    "num_users = len(user_to_user_encoded)\n",
    "\n",
    "num_place = len(place_encoded_to_place)\n",
    "\n",
    "df['Place_Ratings'] = df['Place_Ratings'].values.astype(np.float32)\n",
    "\n",
    "min_rating = min(df['Place_Ratings'])\n",
    "\n",
    "max_rating= max(df['Place_Ratings'])\n",
    "\n",
    "print('Number of User: {}, Number of Place: {}, Min Rating: {}, Max Rating: {}'.format(\n",
    "    num_users, num_place, min_rating, max_rating\n",
    "))"
   ]
  },
  {
   "cell_type": "markdown",
   "id": "7c49f35c",
   "metadata": {
    "papermill": {
     "duration": 0.014271,
     "end_time": "2023-10-07T07:21:24.370219",
     "exception": false,
     "start_time": "2023-10-07T07:21:24.355948",
     "status": "completed"
    },
    "tags": []
   },
   "source": [
    "## Train Test Split"
   ]
  },
  {
   "cell_type": "code",
   "execution_count": 43,
   "id": "86e01c95",
   "metadata": {
    "execution": {
     "iopub.execute_input": "2023-10-07T07:21:24.402501Z",
     "iopub.status.busy": "2023-10-07T07:21:24.401579Z",
     "iopub.status.idle": "2023-10-07T07:21:24.417022Z",
     "shell.execute_reply": "2023-10-07T07:21:24.415929Z"
    },
    "papermill": {
     "duration": 0.034289,
     "end_time": "2023-10-07T07:21:24.419314",
     "exception": false,
     "start_time": "2023-10-07T07:21:24.385025",
     "status": "completed"
    },
    "tags": []
   },
   "outputs": [
    {
     "data": {
      "text/html": [
       "<div>\n",
       "<style scoped>\n",
       "    .dataframe tbody tr th:only-of-type {\n",
       "        vertical-align: middle;\n",
       "    }\n",
       "\n",
       "    .dataframe tbody tr th {\n",
       "        vertical-align: top;\n",
       "    }\n",
       "\n",
       "    .dataframe thead th {\n",
       "        text-align: right;\n",
       "    }\n",
       "</style>\n",
       "<table border=\"1\" class=\"dataframe\">\n",
       "  <thead>\n",
       "    <tr style=\"text-align: right;\">\n",
       "      <th></th>\n",
       "      <th>User_Id</th>\n",
       "      <th>Place_Id</th>\n",
       "      <th>Place_Ratings</th>\n",
       "      <th>user</th>\n",
       "      <th>place</th>\n",
       "    </tr>\n",
       "  </thead>\n",
       "  <tbody>\n",
       "    <tr>\n",
       "      <th>6252</th>\n",
       "      <td>188</td>\n",
       "      <td>207</td>\n",
       "      <td>3.0</td>\n",
       "      <td>187</td>\n",
       "      <td>262</td>\n",
       "    </tr>\n",
       "    <tr>\n",
       "      <th>4684</th>\n",
       "      <td>142</td>\n",
       "      <td>268</td>\n",
       "      <td>2.0</td>\n",
       "      <td>141</td>\n",
       "      <td>83</td>\n",
       "    </tr>\n",
       "    <tr>\n",
       "      <th>1731</th>\n",
       "      <td>54</td>\n",
       "      <td>103</td>\n",
       "      <td>3.0</td>\n",
       "      <td>53</td>\n",
       "      <td>10</td>\n",
       "    </tr>\n",
       "    <tr>\n",
       "      <th>4742</th>\n",
       "      <td>144</td>\n",
       "      <td>119</td>\n",
       "      <td>3.0</td>\n",
       "      <td>143</td>\n",
       "      <td>141</td>\n",
       "    </tr>\n",
       "    <tr>\n",
       "      <th>4521</th>\n",
       "      <td>138</td>\n",
       "      <td>288</td>\n",
       "      <td>5.0</td>\n",
       "      <td>137</td>\n",
       "      <td>283</td>\n",
       "    </tr>\n",
       "    <tr>\n",
       "      <th>...</th>\n",
       "      <td>...</td>\n",
       "      <td>...</td>\n",
       "      <td>...</td>\n",
       "      <td>...</td>\n",
       "      <td>...</td>\n",
       "    </tr>\n",
       "    <tr>\n",
       "      <th>5734</th>\n",
       "      <td>173</td>\n",
       "      <td>402</td>\n",
       "      <td>5.0</td>\n",
       "      <td>172</td>\n",
       "      <td>175</td>\n",
       "    </tr>\n",
       "    <tr>\n",
       "      <th>5191</th>\n",
       "      <td>157</td>\n",
       "      <td>85</td>\n",
       "      <td>4.0</td>\n",
       "      <td>156</td>\n",
       "      <td>33</td>\n",
       "    </tr>\n",
       "    <tr>\n",
       "      <th>5390</th>\n",
       "      <td>163</td>\n",
       "      <td>18</td>\n",
       "      <td>3.0</td>\n",
       "      <td>162</td>\n",
       "      <td>52</td>\n",
       "    </tr>\n",
       "    <tr>\n",
       "      <th>860</th>\n",
       "      <td>28</td>\n",
       "      <td>416</td>\n",
       "      <td>4.0</td>\n",
       "      <td>27</td>\n",
       "      <td>187</td>\n",
       "    </tr>\n",
       "    <tr>\n",
       "      <th>7270</th>\n",
       "      <td>219</td>\n",
       "      <td>258</td>\n",
       "      <td>2.0</td>\n",
       "      <td>218</td>\n",
       "      <td>6</td>\n",
       "    </tr>\n",
       "  </tbody>\n",
       "</table>\n",
       "<p>10000 rows × 5 columns</p>\n",
       "</div>"
      ],
      "text/plain": [
       "      User_Id  Place_Id  Place_Ratings  user  place\n",
       "6252      188       207            3.0   187    262\n",
       "4684      142       268            2.0   141     83\n",
       "1731       54       103            3.0    53     10\n",
       "4742      144       119            3.0   143    141\n",
       "4521      138       288            5.0   137    283\n",
       "...       ...       ...            ...   ...    ...\n",
       "5734      173       402            5.0   172    175\n",
       "5191      157        85            4.0   156     33\n",
       "5390      163        18            3.0   162     52\n",
       "860        28       416            4.0    27    187\n",
       "7270      219       258            2.0   218      6\n",
       "\n",
       "[10000 rows x 5 columns]"
      ]
     },
     "execution_count": 43,
     "metadata": {},
     "output_type": "execute_result"
    }
   ],
   "source": [
    "df = df.sample(frac=1,random_state=42)\n",
    "df"
   ]
  },
  {
   "cell_type": "code",
   "execution_count": 44,
   "id": "17faa72a",
   "metadata": {
    "execution": {
     "iopub.execute_input": "2023-10-07T07:21:24.451287Z",
     "iopub.status.busy": "2023-10-07T07:21:24.450966Z",
     "iopub.status.idle": "2023-10-07T07:21:24.462330Z",
     "shell.execute_reply": "2023-10-07T07:21:24.461195Z"
    },
    "papermill": {
     "duration": 0.029887,
     "end_time": "2023-10-07T07:21:24.464817",
     "exception": false,
     "start_time": "2023-10-07T07:21:24.434930",
     "status": "completed"
    },
    "tags": []
   },
   "outputs": [
    {
     "name": "stdout",
     "output_type": "stream",
     "text": [
      "[[187 262]\n",
      " [141  83]\n",
      " [ 53  10]\n",
      " ...\n",
      " [162  52]\n",
      " [ 27 187]\n",
      " [218   6]] [0.5  0.25 0.5  ... 0.5  0.75 0.25]\n"
     ]
    }
   ],
   "source": [
    "x = df[['user','place']].values\n",
    "\n",
    "y = df['Place_Ratings'].apply(lambda x:(x-min_rating)/(max_rating-min_rating)).values\n",
    "\n",
    "train_indices = int(0.8 * df.shape[0])\n",
    "\n",
    "x_train,x_val,y_train,y_val = (\n",
    "    x[:train_indices],\n",
    "    x[train_indices:],\n",
    "    y[:train_indices],\n",
    "    y[train_indices:]\n",
    ")\n",
    "\n",
    "print(x,y)"
   ]
  },
  {
   "cell_type": "markdown",
   "id": "31c19969",
   "metadata": {
    "papermill": {
     "duration": 0.015229,
     "end_time": "2023-10-07T07:21:24.495441",
     "exception": false,
     "start_time": "2023-10-07T07:21:24.480212",
     "status": "completed"
    },
    "tags": []
   },
   "source": [
    "## Training"
   ]
  },
  {
   "cell_type": "code",
   "execution_count": 45,
   "id": "90ec55d4",
   "metadata": {
    "execution": {
     "iopub.execute_input": "2023-10-07T07:21:24.526254Z",
     "iopub.status.busy": "2023-10-07T07:21:24.525919Z",
     "iopub.status.idle": "2023-10-07T07:21:24.534276Z",
     "shell.execute_reply": "2023-10-07T07:21:24.533224Z"
    },
    "papermill": {
     "duration": 0.026021,
     "end_time": "2023-10-07T07:21:24.536091",
     "exception": false,
     "start_time": "2023-10-07T07:21:24.510070",
     "status": "completed"
    },
    "tags": []
   },
   "outputs": [],
   "source": [
    "class RecommenderNet(tf.keras.Model):\n",
    " \n",
    "  # Insialisasi fungsi\n",
    "  def __init__(self, num_users, num_place, embedding_size, **kwargs):\n",
    "    super(RecommenderNet, self).__init__(**kwargs)\n",
    "    self.num_users = num_users\n",
    "    self.num_place = num_place\n",
    "    self.embedding_size = embedding_size\n",
    "    self.user_embedding = layers.Embedding(\n",
    "        num_users,\n",
    "        embedding_size,\n",
    "        embeddings_initializer = 'he_normal',\n",
    "        embeddings_regularizer = keras.regularizers.l2(1e-6)\n",
    "    )\n",
    "    self.user_bias = layers.Embedding(num_users, 1) \n",
    "    self.place_embedding = layers.Embedding( \n",
    "        num_place,\n",
    "        embedding_size,\n",
    "        embeddings_initializer = 'he_normal',\n",
    "        embeddings_regularizer = keras.regularizers.l2(1e-6)\n",
    "    )\n",
    "    self.place_bias = layers.Embedding(num_place, 1) \n",
    " \n",
    "  def call(self, inputs):\n",
    "    user_vector = self.user_embedding(inputs[:,0]) # memanggil layer embedding 1\n",
    "    user_bias = self.user_bias(inputs[:, 0]) # memanggil layer embedding 2\n",
    "    place_vector = self.place_embedding(inputs[:, 1]) # memanggil layer embedding 3\n",
    "    place_bias = self.place_bias(inputs[:, 1]) # memanggil layer embedding 4\n",
    " \n",
    "    dot_user_place = tf.tensordot(user_vector, place_vector, 2) \n",
    " \n",
    "    x = dot_user_place + user_bias + place_bias\n",
    "    \n",
    "    return tf.nn.sigmoid(x) # activation sigmoid"
   ]
  },
  {
   "cell_type": "code",
   "execution_count": 46,
   "id": "7851523d",
   "metadata": {
    "execution": {
     "iopub.execute_input": "2023-10-07T07:21:24.568213Z",
     "iopub.status.busy": "2023-10-07T07:21:24.567381Z",
     "iopub.status.idle": "2023-10-07T07:21:27.489832Z",
     "shell.execute_reply": "2023-10-07T07:21:27.488908Z"
    },
    "papermill": {
     "duration": 2.940497,
     "end_time": "2023-10-07T07:21:27.492045",
     "exception": false,
     "start_time": "2023-10-07T07:21:24.551548",
     "status": "completed"
    },
    "tags": []
   },
   "outputs": [],
   "source": [
    "model = RecommenderNet(num_users, num_place, 100)\n",
    " \n",
    "# model compile\n",
    "model.compile(\n",
    "    loss = tf.keras.losses.BinaryCrossentropy(),\n",
    "    optimizer = keras.optimizers.Adam(learning_rate=0.001),\n",
    "    metrics=[tf.keras.metrics.RootMeanSquaredError()]\n",
    ")"
   ]
  },
  {
   "cell_type": "code",
   "execution_count": 47,
   "id": "8ccbfede",
   "metadata": {
    "execution": {
     "iopub.execute_input": "2023-10-07T07:21:27.523510Z",
     "iopub.status.busy": "2023-10-07T07:21:27.523234Z",
     "iopub.status.idle": "2023-10-07T07:26:18.998433Z",
     "shell.execute_reply": "2023-10-07T07:26:18.997692Z"
    },
    "papermill": {
     "duration": 291.493228,
     "end_time": "2023-10-07T07:26:19.000525",
     "exception": false,
     "start_time": "2023-10-07T07:21:27.507297",
     "status": "completed"
    },
    "tags": []
   },
   "outputs": [
    {
     "name": "stdout",
     "output_type": "stream",
     "text": [
      "Epoch 1/100\n",
      "1000/1000 [==============================] - 4s 3ms/step - loss: 0.6955 - root_mean_squared_error: 0.3469 - val_loss: 0.6929 - val_root_mean_squared_error: 0.3447\n",
      "Epoch 2/100\n",
      "1000/1000 [==============================] - 3s 3ms/step - loss: 0.6890 - root_mean_squared_error: 0.3421 - val_loss: 0.6931 - val_root_mean_squared_error: 0.3448\n",
      "Epoch 3/100\n",
      "1000/1000 [==============================] - 3s 3ms/step - loss: 0.6815 - root_mean_squared_error: 0.3367 - val_loss: 0.6945 - val_root_mean_squared_error: 0.3457\n",
      "Epoch 4/100\n",
      "1000/1000 [==============================] - 3s 3ms/step - loss: 0.6801 - root_mean_squared_error: 0.3355 - val_loss: 0.6950 - val_root_mean_squared_error: 0.3461\n",
      "Epoch 5/100\n",
      "1000/1000 [==============================] - 3s 3ms/step - loss: 0.6744 - root_mean_squared_error: 0.3315 - val_loss: 0.6949 - val_root_mean_squared_error: 0.3460\n",
      "Epoch 6/100\n",
      "1000/1000 [==============================] - 3s 3ms/step - loss: 0.6721 - root_mean_squared_error: 0.3298 - val_loss: 0.6957 - val_root_mean_squared_error: 0.3465\n",
      "Epoch 7/100\n",
      "1000/1000 [==============================] - 3s 3ms/step - loss: 0.6705 - root_mean_squared_error: 0.3286 - val_loss: 0.6966 - val_root_mean_squared_error: 0.3471\n",
      "Epoch 8/100\n",
      "1000/1000 [==============================] - 3s 3ms/step - loss: 0.6676 - root_mean_squared_error: 0.3265 - val_loss: 0.6970 - val_root_mean_squared_error: 0.3474\n",
      "Epoch 9/100\n",
      "1000/1000 [==============================] - 3s 3ms/step - loss: 0.6665 - root_mean_squared_error: 0.3256 - val_loss: 0.6977 - val_root_mean_squared_error: 0.3479\n",
      "Epoch 10/100\n",
      "1000/1000 [==============================] - 3s 3ms/step - loss: 0.6673 - root_mean_squared_error: 0.3263 - val_loss: 0.7003 - val_root_mean_squared_error: 0.3496\n",
      "Epoch 11/100\n",
      "1000/1000 [==============================] - 3s 3ms/step - loss: 0.6655 - root_mean_squared_error: 0.3250 - val_loss: 0.7016 - val_root_mean_squared_error: 0.3505\n",
      "Epoch 12/100\n",
      "1000/1000 [==============================] - 3s 3ms/step - loss: 0.6619 - root_mean_squared_error: 0.3224 - val_loss: 0.7026 - val_root_mean_squared_error: 0.3511\n",
      "Epoch 13/100\n",
      "1000/1000 [==============================] - 3s 3ms/step - loss: 0.6626 - root_mean_squared_error: 0.3227 - val_loss: 0.7047 - val_root_mean_squared_error: 0.3524\n",
      "Epoch 14/100\n",
      "1000/1000 [==============================] - 3s 3ms/step - loss: 0.6614 - root_mean_squared_error: 0.3220 - val_loss: 0.7061 - val_root_mean_squared_error: 0.3534\n",
      "Epoch 15/100\n",
      "1000/1000 [==============================] - 3s 3ms/step - loss: 0.6597 - root_mean_squared_error: 0.3207 - val_loss: 0.7070 - val_root_mean_squared_error: 0.3539\n",
      "Epoch 16/100\n",
      "1000/1000 [==============================] - 3s 3ms/step - loss: 0.6597 - root_mean_squared_error: 0.3204 - val_loss: 0.7073 - val_root_mean_squared_error: 0.3541\n",
      "Epoch 17/100\n",
      "1000/1000 [==============================] - 3s 3ms/step - loss: 0.6598 - root_mean_squared_error: 0.3207 - val_loss: 0.7087 - val_root_mean_squared_error: 0.3551\n",
      "Epoch 18/100\n",
      "1000/1000 [==============================] - 3s 3ms/step - loss: 0.6610 - root_mean_squared_error: 0.3215 - val_loss: 0.7090 - val_root_mean_squared_error: 0.3552\n",
      "Epoch 19/100\n",
      "1000/1000 [==============================] - 3s 3ms/step - loss: 0.6556 - root_mean_squared_error: 0.3178 - val_loss: 0.7106 - val_root_mean_squared_error: 0.3563\n",
      "Epoch 20/100\n",
      "1000/1000 [==============================] - 3s 3ms/step - loss: 0.6579 - root_mean_squared_error: 0.3191 - val_loss: 0.7103 - val_root_mean_squared_error: 0.3560\n",
      "Epoch 21/100\n",
      "1000/1000 [==============================] - 3s 3ms/step - loss: 0.6570 - root_mean_squared_error: 0.3186 - val_loss: 0.7091 - val_root_mean_squared_error: 0.3552\n",
      "Epoch 22/100\n",
      "1000/1000 [==============================] - 3s 3ms/step - loss: 0.6557 - root_mean_squared_error: 0.3177 - val_loss: 0.7112 - val_root_mean_squared_error: 0.3565\n",
      "Epoch 23/100\n",
      "1000/1000 [==============================] - 3s 3ms/step - loss: 0.6581 - root_mean_squared_error: 0.3194 - val_loss: 0.7124 - val_root_mean_squared_error: 0.3572\n",
      "Epoch 24/100\n",
      "1000/1000 [==============================] - 3s 3ms/step - loss: 0.6573 - root_mean_squared_error: 0.3189 - val_loss: 0.7110 - val_root_mean_squared_error: 0.3562\n",
      "Epoch 25/100\n",
      "1000/1000 [==============================] - 3s 3ms/step - loss: 0.6564 - root_mean_squared_error: 0.3182 - val_loss: 0.7101 - val_root_mean_squared_error: 0.3555\n",
      "Epoch 26/100\n",
      "1000/1000 [==============================] - 3s 3ms/step - loss: 0.6584 - root_mean_squared_error: 0.3197 - val_loss: 0.7111 - val_root_mean_squared_error: 0.3563\n",
      "Epoch 27/100\n",
      "1000/1000 [==============================] - 3s 3ms/step - loss: 0.6585 - root_mean_squared_error: 0.3196 - val_loss: 0.7130 - val_root_mean_squared_error: 0.3575\n",
      "Epoch 28/100\n",
      "1000/1000 [==============================] - 3s 3ms/step - loss: 0.6590 - root_mean_squared_error: 0.3200 - val_loss: 0.7130 - val_root_mean_squared_error: 0.3575\n",
      "Epoch 29/100\n",
      "1000/1000 [==============================] - 3s 3ms/step - loss: 0.6562 - root_mean_squared_error: 0.3180 - val_loss: 0.7133 - val_root_mean_squared_error: 0.3576\n",
      "Epoch 30/100\n",
      "1000/1000 [==============================] - 3s 3ms/step - loss: 0.6572 - root_mean_squared_error: 0.3188 - val_loss: 0.7134 - val_root_mean_squared_error: 0.3576\n",
      "Epoch 31/100\n",
      "1000/1000 [==============================] - 3s 3ms/step - loss: 0.6570 - root_mean_squared_error: 0.3184 - val_loss: 0.7133 - val_root_mean_squared_error: 0.3575\n",
      "Epoch 32/100\n",
      "1000/1000 [==============================] - 3s 3ms/step - loss: 0.6577 - root_mean_squared_error: 0.3194 - val_loss: 0.7150 - val_root_mean_squared_error: 0.3585\n",
      "Epoch 33/100\n",
      "1000/1000 [==============================] - 3s 3ms/step - loss: 0.6569 - root_mean_squared_error: 0.3183 - val_loss: 0.7153 - val_root_mean_squared_error: 0.3587\n",
      "Epoch 34/100\n",
      "1000/1000 [==============================] - 3s 3ms/step - loss: 0.6571 - root_mean_squared_error: 0.3185 - val_loss: 0.7167 - val_root_mean_squared_error: 0.3596\n",
      "Epoch 35/100\n",
      "1000/1000 [==============================] - 3s 3ms/step - loss: 0.6558 - root_mean_squared_error: 0.3179 - val_loss: 0.7152 - val_root_mean_squared_error: 0.3586\n",
      "Epoch 36/100\n",
      "1000/1000 [==============================] - 3s 3ms/step - loss: 0.6539 - root_mean_squared_error: 0.3164 - val_loss: 0.7149 - val_root_mean_squared_error: 0.3584\n",
      "Epoch 37/100\n",
      "1000/1000 [==============================] - 3s 3ms/step - loss: 0.6565 - root_mean_squared_error: 0.3183 - val_loss: 0.7129 - val_root_mean_squared_error: 0.3571\n",
      "Epoch 38/100\n",
      "1000/1000 [==============================] - 3s 3ms/step - loss: 0.6541 - root_mean_squared_error: 0.3164 - val_loss: 0.7147 - val_root_mean_squared_error: 0.3583\n",
      "Epoch 39/100\n",
      "1000/1000 [==============================] - 3s 3ms/step - loss: 0.6587 - root_mean_squared_error: 0.3198 - val_loss: 0.7158 - val_root_mean_squared_error: 0.3590\n",
      "Epoch 40/100\n",
      "1000/1000 [==============================] - 4s 4ms/step - loss: 0.6555 - root_mean_squared_error: 0.3172 - val_loss: 0.7163 - val_root_mean_squared_error: 0.3594\n",
      "Epoch 41/100\n",
      "1000/1000 [==============================] - 3s 3ms/step - loss: 0.6556 - root_mean_squared_error: 0.3179 - val_loss: 0.7163 - val_root_mean_squared_error: 0.3594\n",
      "Epoch 42/100\n",
      "1000/1000 [==============================] - 3s 3ms/step - loss: 0.6589 - root_mean_squared_error: 0.3199 - val_loss: 0.7153 - val_root_mean_squared_error: 0.3586\n",
      "Epoch 43/100\n",
      "1000/1000 [==============================] - 3s 3ms/step - loss: 0.6570 - root_mean_squared_error: 0.3186 - val_loss: 0.7163 - val_root_mean_squared_error: 0.3592\n",
      "Epoch 44/100\n",
      "1000/1000 [==============================] - 3s 3ms/step - loss: 0.6557 - root_mean_squared_error: 0.3177 - val_loss: 0.7184 - val_root_mean_squared_error: 0.3606\n",
      "Epoch 45/100\n",
      "1000/1000 [==============================] - 3s 3ms/step - loss: 0.6592 - root_mean_squared_error: 0.3201 - val_loss: 0.7169 - val_root_mean_squared_error: 0.3596\n",
      "Epoch 46/100\n",
      "1000/1000 [==============================] - 3s 3ms/step - loss: 0.6545 - root_mean_squared_error: 0.3165 - val_loss: 0.7155 - val_root_mean_squared_error: 0.3586\n",
      "Epoch 47/100\n",
      "1000/1000 [==============================] - 3s 3ms/step - loss: 0.6561 - root_mean_squared_error: 0.3179 - val_loss: 0.7151 - val_root_mean_squared_error: 0.3584\n",
      "Epoch 48/100\n",
      "1000/1000 [==============================] - 3s 3ms/step - loss: 0.6566 - root_mean_squared_error: 0.3180 - val_loss: 0.7137 - val_root_mean_squared_error: 0.3576\n",
      "Epoch 49/100\n",
      "1000/1000 [==============================] - 3s 3ms/step - loss: 0.6562 - root_mean_squared_error: 0.3181 - val_loss: 0.7150 - val_root_mean_squared_error: 0.3584\n",
      "Epoch 50/100\n",
      "1000/1000 [==============================] - 3s 3ms/step - loss: 0.6566 - root_mean_squared_error: 0.3183 - val_loss: 0.7167 - val_root_mean_squared_error: 0.3594\n",
      "Epoch 51/100\n",
      "1000/1000 [==============================] - 3s 3ms/step - loss: 0.6562 - root_mean_squared_error: 0.3178 - val_loss: 0.7172 - val_root_mean_squared_error: 0.3598\n",
      "Epoch 52/100\n",
      "1000/1000 [==============================] - 3s 3ms/step - loss: 0.6540 - root_mean_squared_error: 0.3165 - val_loss: 0.7173 - val_root_mean_squared_error: 0.3599\n",
      "Epoch 53/100\n",
      "1000/1000 [==============================] - 3s 3ms/step - loss: 0.6561 - root_mean_squared_error: 0.3181 - val_loss: 0.7175 - val_root_mean_squared_error: 0.3601\n",
      "Epoch 54/100\n",
      "1000/1000 [==============================] - 3s 3ms/step - loss: 0.6562 - root_mean_squared_error: 0.3182 - val_loss: 0.7179 - val_root_mean_squared_error: 0.3602\n",
      "Epoch 55/100\n",
      "1000/1000 [==============================] - 3s 3ms/step - loss: 0.6561 - root_mean_squared_error: 0.3181 - val_loss: 0.7186 - val_root_mean_squared_error: 0.3606\n",
      "Epoch 56/100\n",
      "1000/1000 [==============================] - 3s 3ms/step - loss: 0.6553 - root_mean_squared_error: 0.3173 - val_loss: 0.7173 - val_root_mean_squared_error: 0.3598\n",
      "Epoch 57/100\n",
      "1000/1000 [==============================] - 3s 3ms/step - loss: 0.6568 - root_mean_squared_error: 0.3185 - val_loss: 0.7198 - val_root_mean_squared_error: 0.3614\n",
      "Epoch 58/100\n",
      "1000/1000 [==============================] - 3s 3ms/step - loss: 0.6538 - root_mean_squared_error: 0.3160 - val_loss: 0.7194 - val_root_mean_squared_error: 0.3611\n",
      "Epoch 59/100\n",
      "1000/1000 [==============================] - 3s 3ms/step - loss: 0.6576 - root_mean_squared_error: 0.3188 - val_loss: 0.7208 - val_root_mean_squared_error: 0.3619\n",
      "Epoch 60/100\n",
      "1000/1000 [==============================] - 3s 3ms/step - loss: 0.6562 - root_mean_squared_error: 0.3178 - val_loss: 0.7226 - val_root_mean_squared_error: 0.3631\n",
      "Epoch 61/100\n",
      "1000/1000 [==============================] - 3s 3ms/step - loss: 0.6557 - root_mean_squared_error: 0.3176 - val_loss: 0.7200 - val_root_mean_squared_error: 0.3617\n",
      "Epoch 62/100\n",
      "1000/1000 [==============================] - 3s 3ms/step - loss: 0.6557 - root_mean_squared_error: 0.3175 - val_loss: 0.7217 - val_root_mean_squared_error: 0.3627\n",
      "Epoch 63/100\n",
      "1000/1000 [==============================] - 3s 3ms/step - loss: 0.6572 - root_mean_squared_error: 0.3187 - val_loss: 0.7200 - val_root_mean_squared_error: 0.3617\n",
      "Epoch 64/100\n",
      "1000/1000 [==============================] - 3s 3ms/step - loss: 0.6563 - root_mean_squared_error: 0.3181 - val_loss: 0.7191 - val_root_mean_squared_error: 0.3611\n",
      "Epoch 65/100\n",
      "1000/1000 [==============================] - 3s 3ms/step - loss: 0.6540 - root_mean_squared_error: 0.3165 - val_loss: 0.7188 - val_root_mean_squared_error: 0.3608\n",
      "Epoch 66/100\n",
      "1000/1000 [==============================] - 3s 3ms/step - loss: 0.6550 - root_mean_squared_error: 0.3172 - val_loss: 0.7197 - val_root_mean_squared_error: 0.3616\n",
      "Epoch 67/100\n",
      "1000/1000 [==============================] - 3s 3ms/step - loss: 0.6544 - root_mean_squared_error: 0.3168 - val_loss: 0.7202 - val_root_mean_squared_error: 0.3619\n",
      "Epoch 68/100\n",
      "1000/1000 [==============================] - 3s 3ms/step - loss: 0.6547 - root_mean_squared_error: 0.3170 - val_loss: 0.7193 - val_root_mean_squared_error: 0.3613\n",
      "Epoch 69/100\n",
      "1000/1000 [==============================] - 3s 3ms/step - loss: 0.6548 - root_mean_squared_error: 0.3171 - val_loss: 0.7189 - val_root_mean_squared_error: 0.3610\n",
      "Epoch 70/100\n",
      "1000/1000 [==============================] - 3s 3ms/step - loss: 0.6571 - root_mean_squared_error: 0.3186 - val_loss: 0.7170 - val_root_mean_squared_error: 0.3598\n",
      "Epoch 71/100\n",
      "1000/1000 [==============================] - 3s 3ms/step - loss: 0.6546 - root_mean_squared_error: 0.3167 - val_loss: 0.7169 - val_root_mean_squared_error: 0.3597\n",
      "Epoch 72/100\n",
      "1000/1000 [==============================] - 3s 3ms/step - loss: 0.6539 - root_mean_squared_error: 0.3161 - val_loss: 0.7172 - val_root_mean_squared_error: 0.3599\n",
      "Epoch 73/100\n",
      "1000/1000 [==============================] - 3s 3ms/step - loss: 0.6559 - root_mean_squared_error: 0.3177 - val_loss: 0.7195 - val_root_mean_squared_error: 0.3613\n",
      "Epoch 74/100\n",
      "1000/1000 [==============================] - 3s 3ms/step - loss: 0.6539 - root_mean_squared_error: 0.3160 - val_loss: 0.7193 - val_root_mean_squared_error: 0.3611\n",
      "Epoch 75/100\n",
      "1000/1000 [==============================] - 3s 3ms/step - loss: 0.6563 - root_mean_squared_error: 0.3181 - val_loss: 0.7201 - val_root_mean_squared_error: 0.3616\n",
      "Epoch 76/100\n",
      "1000/1000 [==============================] - 3s 3ms/step - loss: 0.6557 - root_mean_squared_error: 0.3178 - val_loss: 0.7207 - val_root_mean_squared_error: 0.3620\n",
      "Epoch 77/100\n",
      "1000/1000 [==============================] - 3s 3ms/step - loss: 0.6551 - root_mean_squared_error: 0.3174 - val_loss: 0.7208 - val_root_mean_squared_error: 0.3621\n",
      "Epoch 78/100\n",
      "1000/1000 [==============================] - 3s 3ms/step - loss: 0.6564 - root_mean_squared_error: 0.3180 - val_loss: 0.7198 - val_root_mean_squared_error: 0.3615\n",
      "Epoch 79/100\n",
      "1000/1000 [==============================] - 3s 3ms/step - loss: 0.6551 - root_mean_squared_error: 0.3171 - val_loss: 0.7185 - val_root_mean_squared_error: 0.3605\n",
      "Epoch 80/100\n",
      "1000/1000 [==============================] - 3s 3ms/step - loss: 0.6571 - root_mean_squared_error: 0.3186 - val_loss: 0.7191 - val_root_mean_squared_error: 0.3608\n",
      "Epoch 81/100\n",
      "1000/1000 [==============================] - 3s 3ms/step - loss: 0.6565 - root_mean_squared_error: 0.3181 - val_loss: 0.7200 - val_root_mean_squared_error: 0.3615\n",
      "Epoch 82/100\n",
      "1000/1000 [==============================] - 3s 3ms/step - loss: 0.6550 - root_mean_squared_error: 0.3170 - val_loss: 0.7198 - val_root_mean_squared_error: 0.3613\n",
      "Epoch 83/100\n",
      "1000/1000 [==============================] - 3s 3ms/step - loss: 0.6546 - root_mean_squared_error: 0.3168 - val_loss: 0.7190 - val_root_mean_squared_error: 0.3608\n",
      "Epoch 84/100\n",
      "1000/1000 [==============================] - 3s 3ms/step - loss: 0.6553 - root_mean_squared_error: 0.3172 - val_loss: 0.7196 - val_root_mean_squared_error: 0.3612\n",
      "Epoch 85/100\n",
      "1000/1000 [==============================] - 3s 3ms/step - loss: 0.6535 - root_mean_squared_error: 0.3162 - val_loss: 0.7191 - val_root_mean_squared_error: 0.3609\n",
      "Epoch 86/100\n",
      "1000/1000 [==============================] - 3s 3ms/step - loss: 0.6557 - root_mean_squared_error: 0.3177 - val_loss: 0.7196 - val_root_mean_squared_error: 0.3612\n",
      "Epoch 87/100\n",
      "1000/1000 [==============================] - 3s 3ms/step - loss: 0.6531 - root_mean_squared_error: 0.3157 - val_loss: 0.7193 - val_root_mean_squared_error: 0.3611\n",
      "Epoch 88/100\n",
      "1000/1000 [==============================] - 3s 3ms/step - loss: 0.6582 - root_mean_squared_error: 0.3193 - val_loss: 0.7189 - val_root_mean_squared_error: 0.3608\n",
      "Epoch 89/100\n",
      "1000/1000 [==============================] - 3s 3ms/step - loss: 0.6553 - root_mean_squared_error: 0.3171 - val_loss: 0.7180 - val_root_mean_squared_error: 0.3601\n",
      "Epoch 90/100\n",
      "1000/1000 [==============================] - 3s 3ms/step - loss: 0.6557 - root_mean_squared_error: 0.3176 - val_loss: 0.7171 - val_root_mean_squared_error: 0.3594\n",
      "Epoch 91/100\n",
      "1000/1000 [==============================] - 3s 3ms/step - loss: 0.6528 - root_mean_squared_error: 0.3155 - val_loss: 0.7170 - val_root_mean_squared_error: 0.3593\n",
      "Epoch 92/100\n",
      "1000/1000 [==============================] - 3s 3ms/step - loss: 0.6547 - root_mean_squared_error: 0.3170 - val_loss: 0.7167 - val_root_mean_squared_error: 0.3591\n",
      "Epoch 93/100\n",
      "1000/1000 [==============================] - 3s 3ms/step - loss: 0.6534 - root_mean_squared_error: 0.3160 - val_loss: 0.7181 - val_root_mean_squared_error: 0.3600\n",
      "Epoch 94/100\n",
      "1000/1000 [==============================] - 3s 3ms/step - loss: 0.6552 - root_mean_squared_error: 0.3174 - val_loss: 0.7181 - val_root_mean_squared_error: 0.3601\n",
      "Epoch 95/100\n",
      "1000/1000 [==============================] - 3s 3ms/step - loss: 0.6533 - root_mean_squared_error: 0.3157 - val_loss: 0.7194 - val_root_mean_squared_error: 0.3611\n",
      "Epoch 96/100\n",
      "1000/1000 [==============================] - 3s 3ms/step - loss: 0.6548 - root_mean_squared_error: 0.3168 - val_loss: 0.7191 - val_root_mean_squared_error: 0.3609\n",
      "Epoch 97/100\n",
      "1000/1000 [==============================] - 3s 3ms/step - loss: 0.6536 - root_mean_squared_error: 0.3162 - val_loss: 0.7191 - val_root_mean_squared_error: 0.3607\n",
      "Epoch 98/100\n",
      "1000/1000 [==============================] - 3s 3ms/step - loss: 0.6536 - root_mean_squared_error: 0.3161 - val_loss: 0.7205 - val_root_mean_squared_error: 0.3618\n",
      "Epoch 99/100\n",
      "1000/1000 [==============================] - 3s 3ms/step - loss: 0.6548 - root_mean_squared_error: 0.3169 - val_loss: 0.7208 - val_root_mean_squared_error: 0.3620\n",
      "Epoch 100/100\n",
      "1000/1000 [==============================] - 3s 3ms/step - loss: 0.6533 - root_mean_squared_error: 0.3158 - val_loss: 0.7207 - val_root_mean_squared_error: 0.3619\n"
     ]
    }
   ],
   "source": [
    "history = model.fit(\n",
    "    x = x_train,\n",
    "    y = y_train,\n",
    "    batch_size = 8,\n",
    "    epochs = 100,\n",
    "    validation_data = (x_val, y_val),\n",
    ")"
   ]
  },
  {
   "cell_type": "code",
   "execution_count": 48,
   "id": "40231d67",
   "metadata": {
    "execution": {
     "iopub.execute_input": "2023-10-07T07:26:19.540644Z",
     "iopub.status.busy": "2023-10-07T07:26:19.539710Z",
     "iopub.status.idle": "2023-10-07T07:26:19.738742Z",
     "shell.execute_reply": "2023-10-07T07:26:19.737767Z"
    },
    "papermill": {
     "duration": 0.498077,
     "end_time": "2023-10-07T07:26:19.741767",
     "exception": false,
     "start_time": "2023-10-07T07:26:19.243690",
     "status": "completed"
    },
    "tags": []
   },
   "outputs": [
    {
     "data": {
      "image/png": "[encoded data removed]",
      "text/plain": [
       "<Figure size 432x288 with 1 Axes>"
      ]
     },
     "metadata": {
      "needs_background": "light"
     },
     "output_type": "display_data"
    }
   ],
   "source": [
    "plt.plot(history.history['root_mean_squared_error'])\n",
    "plt.plot(history.history['val_root_mean_squared_error'])\n",
    "plt.title('model_metrics')\n",
    "plt.ylabel('root_mean_squared_error')\n",
    "plt.xlabel('epoch')\n",
    "plt.legend(['train', 'test'], loc='upper left')\n",
    "plt.show()"
   ]
  },
  {
   "cell_type": "markdown",
   "id": "7d9b43c9",
   "metadata": {
    "papermill": {
     "duration": 0.245299,
     "end_time": "2023-10-07T07:26:20.227351",
     "exception": false,
     "start_time": "2023-10-07T07:26:19.982052",
     "status": "completed"
    },
    "tags": []
   },
   "source": [
    "# Recommendation"
   ]
  },
  {
   "cell_type": "code",
   "execution_count": 49,
   "id": "b4b1462c",
   "metadata": {
    "execution": {
     "iopub.execute_input": "2023-10-07T07:26:20.718286Z",
     "iopub.status.busy": "2023-10-07T07:26:20.717922Z",
     "iopub.status.idle": "2023-10-07T07:26:20.732220Z",
     "shell.execute_reply": "2023-10-07T07:26:20.731239Z"
    },
    "papermill": {
     "duration": 0.260832,
     "end_time": "2023-10-07T07:26:20.734216",
     "exception": false,
     "start_time": "2023-10-07T07:26:20.473384",
     "status": "completed"
    },
    "tags": []
   },
   "outputs": [],
   "source": [
    "place_df = tourism_new\n",
    "df = pd.read_csv(f'{DATA_PATH}/tourism_rating.csv')\n",
    "\n",
    "user_id = df.User_Id.sample(1).iloc[0]\n",
    "place_visited_by_user = df[df.User_Id == user_id]\n",
    "\n",
    "place_not_visited = place_df[~place_df['id'].isin(place_visited_by_user['Place_Id'].values)]['id'] \n",
    "place_not_visited = list(\n",
    "    set(place_not_visited)\n",
    "    .intersection(set(place_to_place_encoded.keys()))\n",
    ")\n",
    " \n",
    "place_not_visited = [[place_to_place_encoded.get(x)] for x in place_not_visited]\n",
    "user_encoder = user_to_user_encoded.get(user_id)\n",
    "user_place_array = np.hstack(\n",
    "    ([[user_encoder]] * len(place_not_visited), place_not_visited)\n",
    ")"
   ]
  },
  {
   "cell_type": "code",
   "execution_count": 50,
   "id": "18f31a32",
   "metadata": {
    "execution": {
     "iopub.execute_input": "2023-10-07T07:26:21.270011Z",
     "iopub.status.busy": "2023-10-07T07:26:21.269265Z",
     "iopub.status.idle": "2023-10-07T07:26:21.466970Z",
     "shell.execute_reply": "2023-10-07T07:26:21.465900Z"
    },
    "papermill": {
     "duration": 0.452127,
     "end_time": "2023-10-07T07:26:21.469048",
     "exception": false,
     "start_time": "2023-10-07T07:26:21.016921",
     "status": "completed"
    },
    "tags": []
   },
   "outputs": [
    {
     "name": "stdout",
     "output_type": "stream",
     "text": [
      "Showing recommendations for users: 50\n",
      "===========================\n",
      "Place with high ratings from user\n",
      "--------------------------------\n"
     ]
    },
    {
     "data": {
      "text/html": [
       "<div>\n",
       "<style scoped>\n",
       "    .dataframe tbody tr th:only-of-type {\n",
       "        vertical-align: middle;\n",
       "    }\n",
       "\n",
       "    .dataframe tbody tr th {\n",
       "        vertical-align: top;\n",
       "    }\n",
       "\n",
       "    .dataframe thead th {\n",
       "        text-align: right;\n",
       "    }\n",
       "</style>\n",
       "<table border=\"1\" class=\"dataframe\">\n",
       "  <thead>\n",
       "    <tr style=\"text-align: right;\">\n",
       "      <th></th>\n",
       "      <th>id</th>\n",
       "      <th>name</th>\n",
       "      <th>category</th>\n",
       "      <th>description</th>\n",
       "      <th>city</th>\n",
       "      <th>city_category</th>\n",
       "    </tr>\n",
       "  </thead>\n",
       "  <tbody>\n",
       "    <tr>\n",
       "      <th>12</th>\n",
       "      <td>89</td>\n",
       "      <td>De Mata Museum Jogja</td>\n",
       "      <td>Budaya</td>\n",
       "      <td>Museum De Mata merupakan salah satu museum yan...</td>\n",
       "      <td>Yogyakarta</td>\n",
       "      <td>Yogyakarta Budaya</td>\n",
       "    </tr>\n",
       "    <tr>\n",
       "      <th>41</th>\n",
       "      <td>437</td>\n",
       "      <td>Gereja Perawan Maria Tak Berdosa Surabaya</td>\n",
       "      <td>Tempat Ibadah</td>\n",
       "      <td>Gereja Katolik Kelahiran Santa Perawan Maria m...</td>\n",
       "      <td>Surabaya</td>\n",
       "      <td>Surabaya Tempat Ibadah</td>\n",
       "    </tr>\n",
       "    <tr>\n",
       "      <th>214</th>\n",
       "      <td>109</td>\n",
       "      <td>Hutan Pinus Pengger</td>\n",
       "      <td>Taman Hiburan</td>\n",
       "      <td>Hutan Pinus Pengger (bahasa Jawa: ꦄꦭꦱ꧀​ꦥꦶꦤꦸꦱ꧀​...</td>\n",
       "      <td>Yogyakarta</td>\n",
       "      <td>Yogyakarta Taman Hiburan</td>\n",
       "    </tr>\n",
       "    <tr>\n",
       "      <th>373</th>\n",
       "      <td>401</td>\n",
       "      <td>Taman Keputran</td>\n",
       "      <td>Taman Hiburan</td>\n",
       "      <td>Ntah, mengapa nama taman ini disebut dengan ta...</td>\n",
       "      <td>Surabaya</td>\n",
       "      <td>Surabaya Taman Hiburan</td>\n",
       "    </tr>\n",
       "    <tr>\n",
       "      <th>416</th>\n",
       "      <td>180</td>\n",
       "      <td>Pantai Depok Jogja</td>\n",
       "      <td>Bahari</td>\n",
       "      <td>Pantai Depok (bahasa Jawa: ꦥꦱꦶꦱꦶꦂ ꦝꦺꦥꦺꦴꦏ꧀, tra...</td>\n",
       "      <td>Yogyakarta</td>\n",
       "      <td>Yogyakarta Bahari</td>\n",
       "    </tr>\n",
       "  </tbody>\n",
       "</table>\n",
       "</div>"
      ],
      "text/plain": [
       "      id                                       name       category  \\\n",
       "12    89                       De Mata Museum Jogja         Budaya   \n",
       "41   437  Gereja Perawan Maria Tak Berdosa Surabaya  Tempat Ibadah   \n",
       "214  109                        Hutan Pinus Pengger  Taman Hiburan   \n",
       "373  401                             Taman Keputran  Taman Hiburan   \n",
       "416  180                         Pantai Depok Jogja         Bahari   \n",
       "\n",
       "                                           description        city  \\\n",
       "12   Museum De Mata merupakan salah satu museum yan...  Yogyakarta   \n",
       "41   Gereja Katolik Kelahiran Santa Perawan Maria m...    Surabaya   \n",
       "214  Hutan Pinus Pengger (bahasa Jawa: ꦄꦭꦱ꧀​ꦥꦶꦤꦸꦱ꧀​...  Yogyakarta   \n",
       "373  Ntah, mengapa nama taman ini disebut dengan ta...    Surabaya   \n",
       "416  Pantai Depok (bahasa Jawa: ꦥꦱꦶꦱꦶꦂ ꦝꦺꦥꦺꦴꦏ꧀, tra...  Yogyakarta   \n",
       "\n",
       "                city_category  \n",
       "12          Yogyakarta Budaya  \n",
       "41     Surabaya Tempat Ibadah  \n",
       "214  Yogyakarta Taman Hiburan  \n",
       "373    Surabaya Taman Hiburan  \n",
       "416         Yogyakarta Bahari  "
      ]
     },
     "execution_count": 50,
     "metadata": {},
     "output_type": "execute_result"
    }
   ],
   "source": [
    "ratings = model.predict(user_place_array).flatten()\n",
    " \n",
    "top_ratings_indices = ratings.argsort()[-10:][::-1]\n",
    "recommended_place_ids = [\n",
    "    place_encoded_to_place.get(place_not_visited[x][0]) for x in top_ratings_indices\n",
    "]\n",
    " \n",
    "print('Showing recommendations for users: {}'.format(user_id))\n",
    "print('===' * 9)\n",
    "print('Place with high ratings from user')\n",
    "print('----' * 8)\n",
    " \n",
    "top_place_user = (\n",
    "    place_visited_by_user.sort_values(\n",
    "        by = 'Place_Ratings',\n",
    "        ascending=False\n",
    "    )\n",
    "    .head(5)\n",
    "    .Place_Id.values\n",
    ")\n",
    " \n",
    "place_df_rows = place_df[place_df['id'].isin(top_place_user)]\n",
    "pd.DataFrame(place_df_rows)"
   ]
  },
  {
   "cell_type": "code",
   "execution_count": 51,
   "id": "489dfd33",
   "metadata": {
    "execution": {
     "iopub.execute_input": "2023-10-07T07:26:21.952494Z",
     "iopub.status.busy": "2023-10-07T07:26:21.952142Z",
     "iopub.status.idle": "2023-10-07T07:26:21.966207Z",
     "shell.execute_reply": "2023-10-07T07:26:21.964936Z"
    },
    "papermill": {
     "duration": 0.262398,
     "end_time": "2023-10-07T07:26:21.968093",
     "exception": false,
     "start_time": "2023-10-07T07:26:21.705695",
     "status": "completed"
    },
    "tags": []
   },
   "outputs": [
    {
     "name": "stdout",
     "output_type": "stream",
     "text": [
      "--------------------------------\n",
      "Top 10 place recommendation\n",
      "--------------------------------\n"
     ]
    },
    {
     "data": {
      "text/html": [
       "<div>\n",
       "<style scoped>\n",
       "    .dataframe tbody tr th:only-of-type {\n",
       "        vertical-align: middle;\n",
       "    }\n",
       "\n",
       "    .dataframe tbody tr th {\n",
       "        vertical-align: top;\n",
       "    }\n",
       "\n",
       "    .dataframe thead th {\n",
       "        text-align: right;\n",
       "    }\n",
       "</style>\n",
       "<table border=\"1\" class=\"dataframe\">\n",
       "  <thead>\n",
       "    <tr style=\"text-align: right;\">\n",
       "      <th></th>\n",
       "      <th>id</th>\n",
       "      <th>name</th>\n",
       "      <th>category</th>\n",
       "      <th>description</th>\n",
       "      <th>city</th>\n",
       "      <th>city_category</th>\n",
       "    </tr>\n",
       "  </thead>\n",
       "  <tbody>\n",
       "    <tr>\n",
       "      <th>100</th>\n",
       "      <td>309</td>\n",
       "      <td>Observatorium Bosscha</td>\n",
       "      <td>Cagar Alam</td>\n",
       "      <td>Observatorium Bosscha merupakan salah satu tem...</td>\n",
       "      <td>Bandung</td>\n",
       "      <td>Bandung Cagar Alam</td>\n",
       "    </tr>\n",
       "    <tr>\n",
       "      <th>106</th>\n",
       "      <td>300</td>\n",
       "      <td>Sanghyang Heuleut</td>\n",
       "      <td>Cagar Alam</td>\n",
       "      <td>Danau yang satu ini memiliki air jernih bernua...</td>\n",
       "      <td>Bandung</td>\n",
       "      <td>Bandung Cagar Alam</td>\n",
       "    </tr>\n",
       "    <tr>\n",
       "      <th>206</th>\n",
       "      <td>284</td>\n",
       "      <td>Pasar Baru</td>\n",
       "      <td>Pusat Perbelanjaan</td>\n",
       "      <td>Pasar Baru adalah kawasan perdagangan yang ber...</td>\n",
       "      <td>Bandung</td>\n",
       "      <td>Bandung Pusat Perbelanjaan</td>\n",
       "    </tr>\n",
       "    <tr>\n",
       "      <th>236</th>\n",
       "      <td>293</td>\n",
       "      <td>Taman Badak</td>\n",
       "      <td>Taman Hiburan</td>\n",
       "      <td>Taman Badak ini baru saja diresmikan pada tang...</td>\n",
       "      <td>Bandung</td>\n",
       "      <td>Bandung Taman Hiburan</td>\n",
       "    </tr>\n",
       "    <tr>\n",
       "      <th>288</th>\n",
       "      <td>308</td>\n",
       "      <td>Pemandian Air Panas Ciater</td>\n",
       "      <td>Cagar Alam</td>\n",
       "      <td>Di Subang, terdapat kawasan pemandian Air Pana...</td>\n",
       "      <td>Bandung</td>\n",
       "      <td>Bandung Cagar Alam</td>\n",
       "    </tr>\n",
       "    <tr>\n",
       "      <th>290</th>\n",
       "      <td>279</td>\n",
       "      <td>Masjid Agung Trans Studio Bandung</td>\n",
       "      <td>Tempat Ibadah</td>\n",
       "      <td>Masjid Agung Trans Studio Bandung (TSB) berdir...</td>\n",
       "      <td>Bandung</td>\n",
       "      <td>Bandung Tempat Ibadah</td>\n",
       "    </tr>\n",
       "    <tr>\n",
       "      <th>309</th>\n",
       "      <td>295</td>\n",
       "      <td>Museum Nike Ardilla</td>\n",
       "      <td>Budaya</td>\n",
       "      <td>Museum Nike Ardilla diresmikan atau dibuka unt...</td>\n",
       "      <td>Bandung</td>\n",
       "      <td>Bandung Budaya</td>\n",
       "    </tr>\n",
       "    <tr>\n",
       "      <th>379</th>\n",
       "      <td>291</td>\n",
       "      <td>Water Park Bandung Indah</td>\n",
       "      <td>Taman Hiburan</td>\n",
       "      <td>Bandung Indah Waterpark merupakan salah satu k...</td>\n",
       "      <td>Bandung</td>\n",
       "      <td>Bandung Taman Hiburan</td>\n",
       "    </tr>\n",
       "    <tr>\n",
       "      <th>385</th>\n",
       "      <td>282</td>\n",
       "      <td>Curug Cilengkrang</td>\n",
       "      <td>Cagar Alam</td>\n",
       "      <td>Curug Cilengkrang bisa menjadi pilihan tujuan ...</td>\n",
       "      <td>Bandung</td>\n",
       "      <td>Bandung Cagar Alam</td>\n",
       "    </tr>\n",
       "    <tr>\n",
       "      <th>402</th>\n",
       "      <td>287</td>\n",
       "      <td>Puspa Iptek Sundial</td>\n",
       "      <td>Taman Hiburan</td>\n",
       "      <td>Puspa Iptek Sundial adalah wahana pendidikan y...</td>\n",
       "      <td>Bandung</td>\n",
       "      <td>Bandung Taman Hiburan</td>\n",
       "    </tr>\n",
       "  </tbody>\n",
       "</table>\n",
       "</div>"
      ],
      "text/plain": [
       "      id                               name            category  \\\n",
       "100  309              Observatorium Bosscha          Cagar Alam   \n",
       "106  300                  Sanghyang Heuleut          Cagar Alam   \n",
       "206  284                         Pasar Baru  Pusat Perbelanjaan   \n",
       "236  293                        Taman Badak       Taman Hiburan   \n",
       "288  308         Pemandian Air Panas Ciater          Cagar Alam   \n",
       "290  279  Masjid Agung Trans Studio Bandung       Tempat Ibadah   \n",
       "309  295                Museum Nike Ardilla              Budaya   \n",
       "379  291           Water Park Bandung Indah       Taman Hiburan   \n",
       "385  282                  Curug Cilengkrang          Cagar Alam   \n",
       "402  287                Puspa Iptek Sundial       Taman Hiburan   \n",
       "\n",
       "                                           description     city  \\\n",
       "100  Observatorium Bosscha merupakan salah satu tem...  Bandung   \n",
       "106  Danau yang satu ini memiliki air jernih bernua...  Bandung   \n",
       "206  Pasar Baru adalah kawasan perdagangan yang ber...  Bandung   \n",
       "236  Taman Badak ini baru saja diresmikan pada tang...  Bandung   \n",
       "288  Di Subang, terdapat kawasan pemandian Air Pana...  Bandung   \n",
       "290  Masjid Agung Trans Studio Bandung (TSB) berdir...  Bandung   \n",
       "309  Museum Nike Ardilla diresmikan atau dibuka unt...  Bandung   \n",
       "379  Bandung Indah Waterpark merupakan salah satu k...  Bandung   \n",
       "385  Curug Cilengkrang bisa menjadi pilihan tujuan ...  Bandung   \n",
       "402  Puspa Iptek Sundial adalah wahana pendidikan y...  Bandung   \n",
       "\n",
       "                  city_category  \n",
       "100          Bandung Cagar Alam  \n",
       "106          Bandung Cagar Alam  \n",
       "206  Bandung Pusat Perbelanjaan  \n",
       "236       Bandung Taman Hiburan  \n",
       "288          Bandung Cagar Alam  \n",
       "290       Bandung Tempat Ibadah  \n",
       "309              Bandung Budaya  \n",
       "379       Bandung Taman Hiburan  \n",
       "385          Bandung Cagar Alam  \n",
       "402       Bandung Taman Hiburan  "
      ]
     },
     "execution_count": 51,
     "metadata": {},
     "output_type": "execute_result"
    }
   ],
   "source": [
    "print('----' * 8)\n",
    "print('Top 10 place recommendation')\n",
    "print('----' * 8)\n",
    " \n",
    "recommended_place = place_df[place_df['id'].isin(recommended_place_ids)]\n",
    "recommended_place"
   ]
  }
 ],
 "metadata": {
  "kernelspec": {
   "display_name": "Python 3",
   "language": "python",
   "name": "python3"
  },
  "language_info": {
   "codemirror_mode": {
    "name": "ipython",
    "version": 3
   },
   "file_extension": ".py",
   "mimetype": "text/x-python",
   "name": "python",
   "nbconvert_exporter": "python",
   "pygments_lexer": "ipython3",
   "version": "3.7.12"
  },
  "papermill": {
   "default_parameters": {},
   "duration": 318.433217,
   "end_time": "2023-10-07T07:26:25.313605",
   "environment_variables": {},
   "exception": null,
   "input_path": "__notebook__.ipynb",
   "output_path": "__notebook__.ipynb",
   "parameters": {},
   "start_time": "2023-10-07T07:21:06.880388",
   "version": "2.3.4"
  }
 },
 "nbformat": 4,
 "nbformat_minor": 5
}
